{
 "cells": [
  {
   "cell_type": "code",
   "execution_count": 51,
   "metadata": {},
   "outputs": [],
   "source": [
    "from game import Game\n",
    "import time\n",
    "import os\n",
    "import re"
   ]
  },
  {
   "cell_type": "markdown",
   "metadata": {},
   "source": [
    "## Load maps"
   ]
  },
  {
   "cell_type": "code",
   "execution_count": 52,
   "metadata": {},
   "outputs": [],
   "source": [
    "def extract_map_files(directory):\n",
    "    pattern = re.compile(r'^map(\\d+)\\.txt$')\n",
    "    map_file_indices = []\n",
    "\n",
    "    for file_name in os.listdir(directory):\n",
    "        match = pattern.match(file_name)\n",
    "        if match:\n",
    "            map_file_indices.append(match.group(1))\n",
    "\n",
    "    return [int(idx) for idx in map_file_indices]\n",
    "\n",
    "def is_valid_input(map, indices, algorithm, solvers):\n",
    "    valid_input = True\n",
    "    if map not in indices:\n",
    "        print(f\"Map index out of range. Please choose within range {min(indices)} to {max(indices)}\")\n",
    "        valid_input = False\n",
    "    if algorithm not in solvers.keys():    \n",
    "        print(f\"{algorithm} is not a defined algorithm. Please choose from\", *[f\"{solver} ({i+1})  \" for i, solver in enumerate(solvers.keys())])\n",
    "        valid_input = False\n",
    "    return valid_input\n",
    "\n",
    "def load_map(map_index):  \n",
    "    file_name = \"map\" + str(map_index) + \".txt\"\n",
    "    with open('./assets/maps/' + file_name) as f:\n",
    "        game_map = f.read()\n",
    "    return game_map\n",
    "\n",
    "map_file_indices = extract_map_files(\"./assets/maps/\")"
   ]
  },
  {
   "cell_type": "markdown",
   "metadata": {},
   "source": [
    "## Tutorial"
   ]
  },
  {
   "cell_type": "code",
   "execution_count": 53,
   "metadata": {},
   "outputs": [
    {
     "name": "stdout",
     "output_type": "stream",
     "text": [
      "This is an example of the game map:\n",
      "W\tP1\tH\tW\tW\tW\tW\n",
      "W\tW\tW\tG1\tW\tW\tW\n",
      "W\tW\tW\tB1\tW\tW\tW\n",
      "W\tG2\tB2\t.\tP1\tW\tW\n",
      "W\tW\tW\tB3\tW\tW\tW\n",
      "W\tW\tW\tG3\tW\tW\tW\n",
      "W\tW\tW\tW\tW\tW\tW\n"
     ]
    }
   ],
   "source": [
    "print(\"This is an example of the game map:\")\n",
    "map = load_map(2)\n",
    "game = Game(map)\n",
    "game.display_map()"
   ]
  },
  {
   "cell_type": "code",
   "execution_count": 54,
   "metadata": {},
   "outputs": [
    {
     "data": {
      "text/plain": [
       "[(2, 3), (3, 2), (4, 3)]"
      ]
     },
     "execution_count": 54,
     "metadata": {},
     "output_type": "execute_result"
    }
   ],
   "source": [
    "game.get_box_locations()"
   ]
  },
  {
   "cell_type": "code",
   "execution_count": 55,
   "metadata": {},
   "outputs": [
    {
     "data": {
      "text/plain": [
       "[(1, 3), (3, 1), (5, 3)]"
      ]
     },
     "execution_count": 55,
     "metadata": {},
     "output_type": "execute_result"
    }
   ],
   "source": [
    "game.get_goal_locations()"
   ]
  },
  {
   "cell_type": "code",
   "execution_count": 56,
   "metadata": {},
   "outputs": [
    {
     "data": {
      "text/plain": [
       "(0, 2)"
      ]
     },
     "execution_count": 56,
     "metadata": {},
     "output_type": "execute_result"
    }
   ],
   "source": [
    "game.get_player_position()"
   ]
  },
  {
   "cell_type": "markdown",
   "metadata": {},
   "source": [
    "- W : Wall\n",
    "- H : Human\n",
    "- B : Box\n",
    "- P : Portal\n",
    "- G : Goal"
   ]
  },
  {
   "cell_type": "code",
   "execution_count": 57,
   "metadata": {},
   "outputs": [
    {
     "name": "stdout",
     "output_type": "stream",
     "text": [
      "Move U is valid: False\n",
      "Move D is valid: False\n",
      "Move R is valid: False\n",
      "Move L is valid: True\n",
      "W\tP1\t.\tW\tW\tW\tW\n",
      "W\tW\tW\tG1\tW\tW\tW\n",
      "W\tW\tW\tB1\tW\tW\tW\n",
      "W\tG2\tB2\tH\tP1\tW\tW\n",
      "W\tW\tW\tB3\tW\tW\tW\n",
      "W\tW\tW\tG3\tW\tW\tW\n",
      "W\tW\tW\tW\tW\tW\tW\n"
     ]
    }
   ],
   "source": [
    "for direction in ['U', 'D', 'R', 'L']:\n",
    "    result = game.apply_move(direction)\n",
    "    print(f\"Move {direction} is valid: {result}\")\n",
    "    if result:\n",
    "        game.display_map()"
   ]
  },
  {
   "cell_type": "code",
   "execution_count": 58,
   "metadata": {},
   "outputs": [
    {
     "name": "stdout",
     "output_type": "stream",
     "text": [
      "W\tP1\t.\tW\tW\tW\tW\n",
      "W\tW\tW\tG1/B1\tW\tW\tW\n",
      "W\tW\tW\tH\tW\tW\tW\n",
      "W\tG2\tB2\t.\tP1\tW\tW\n",
      "W\tW\tW\tB3\tW\tW\tW\n",
      "W\tW\tW\tG3\tW\tW\tW\n",
      "W\tW\tW\tW\tW\tW\tW\n"
     ]
    }
   ],
   "source": [
    "game.apply_move('U')\n",
    "game.display_map()"
   ]
  },
  {
   "cell_type": "code",
   "execution_count": 59,
   "metadata": {},
   "outputs": [
    {
     "name": "stdout",
     "output_type": "stream",
     "text": [
      "W\tP1\t.\tW\tW\tW\tW\n",
      "W\tW\tW\tG1/B1\tW\tW\tW\n",
      "W\tW\tW\t.\tW\tW\tW\n",
      "W\tG2/B2\t.\t.\tP1\tW\tW\n",
      "W\tW\tW\tH\tW\tW\tW\n",
      "W\tW\tW\tG3/B3\tW\tW\tW\n",
      "W\tW\tW\tW\tW\tW\tW\n",
      "Is game won? True\n"
     ]
    }
   ],
   "source": [
    "game.apply_moves(['D', 'L', 'R', 'D']) \n",
    "game.display_map()\n",
    "print(\"Is game won?\", game.is_game_won())"
   ]
  },
  {
   "cell_type": "markdown",
   "metadata": {},
   "source": [
    "## Solvers"
   ]
  },
  {
   "cell_type": "markdown",
   "metadata": {},
   "source": [
    "### BFS"
   ]
  },
  {
   "cell_type": "code",
   "execution_count": 60,
   "metadata": {},
   "outputs": [],
   "source": [
    "from collections import deque\n",
    "\n",
    "def solver_bfs(map):\n",
    "    game = Game(map)\n",
    "    start_time = time.time()\n",
    "    queue = deque([(game.get_player_position(), tuple(game.get_box_locations()), \"\")])\n",
    "    visited = set()\n",
    "    \n",
    "    while queue:\n",
    "        if(time.time() - start_time > 60):\n",
    "            return None, -1\n",
    "        player_position, boxes_position, path = queue.popleft()\n",
    "        state_hash = (player_position, boxes_position)\n",
    "        \n",
    "        if state_hash in visited:\n",
    "            continue\n",
    "        visited.add(state_hash)\n",
    "\n",
    "\n",
    "        for move in ['U', 'D', 'L', 'R']:\n",
    "            game.set_player_position(player_position)\n",
    "            game.set_box_positions(boxes_position)\n",
    "\n",
    "            if game.apply_move(move):\n",
    "                if game.is_game_won():\n",
    "                    return path + move, len(visited)\n",
    "                new_state = (game.get_player_position(), tuple(game.get_box_locations()), path + move)\n",
    "                queue.append(new_state)\n",
    "                \n",
    "    \n",
    "    return None, 0"
   ]
  },
  {
   "cell_type": "markdown",
   "metadata": {},
   "source": [
    "### DFS"
   ]
  },
  {
   "cell_type": "code",
   "execution_count": 61,
   "metadata": {},
   "outputs": [],
   "source": [
    "def solver_dfs(map, depth_limit=1000):\n",
    "    game = Game(map)\n",
    "    start_time = time.time()\n",
    "    stack = [(game.get_player_position(), tuple(game.get_box_locations()), \"\")]\n",
    "    visited = set()\n",
    "\n",
    "    while stack:\n",
    "        if(time.time() - start_time > 60):\n",
    "            return None, -1\n",
    "        \n",
    "        player_position, boxes_position, path = stack.pop()\n",
    "        state_hash = (player_position, boxes_position)\n",
    "\n",
    "        if state_hash in visited:\n",
    "            continue\n",
    "\n",
    "        visited.add(state_hash)\n",
    "\n",
    "        if len(path) >= depth_limit:\n",
    "            continue\n",
    "\n",
    "        for move in ['U', 'D', 'L', 'R']:\n",
    "            game.set_player_position(player_position)\n",
    "            game.set_box_positions(boxes_position)\n",
    "\n",
    "            if game.is_game_won():\n",
    "                    return path, len(visited)\n",
    "            \n",
    "            if game.apply_move(move):\n",
    "                if game.is_game_won():\n",
    "                    return path + move, len(visited)\n",
    "                new_state = (game.get_player_position(), tuple(game.get_box_locations()), path + move)  \n",
    "                stack.append(new_state)\n",
    "    \n",
    "    return None, 0"
   ]
  },
  {
   "cell_type": "markdown",
   "metadata": {},
   "source": [
    "### IDS"
   ]
  },
  {
   "cell_type": "code",
   "execution_count": 62,
   "metadata": {},
   "outputs": [],
   "source": [
    "def solver_ids(game_map, max_depth=1000):\n",
    "    game = Game(game_map)\n",
    "    start_time = time.time()\n",
    "    \n",
    "    initial_state = (game.get_player_position(), tuple(game.get_box_locations()))\n",
    "    total_visited = 0\n",
    "    \n",
    "    for current_depth in range(max_depth):\n",
    "        path_result, visit_count = bfs_with_depth_limit(game, initial_state, current_depth, start_time)\n",
    "        total_visited += visit_count\n",
    "        \n",
    "        if path_result is not None or visit_count < 0:\n",
    "            return path_result, total_visited\n",
    "    \n",
    "    return None, total_visited\n",
    "\n",
    "def bfs_with_depth_limit(game, initial_state, depth_limit, start_time):\n",
    "    visited = set()\n",
    "    queue = deque([(initial_state[0], initial_state[1], \"\")])\n",
    "    visit_count = 0\n",
    "    \n",
    "    while queue:\n",
    "        if time.time() - start_time > 60:\n",
    "            return None, -1\n",
    "            \n",
    "        player_pos, boxes_pos, path = queue.popleft()\n",
    "        \n",
    "        if (player_pos, boxes_pos) in visited:\n",
    "            continue\n",
    "            \n",
    "        visited.add((player_pos, boxes_pos))\n",
    "        visit_count += 1\n",
    "\n",
    "        game.set_player_position(player_pos)\n",
    "        game.set_box_positions(boxes_pos)\n",
    "        if game.is_game_won():\n",
    "            return path, visit_count\n",
    "            \n",
    "        if len(path) >= depth_limit:\n",
    "            continue\n",
    "            \n",
    "        for move in ['U', 'D', 'L', 'R']:\n",
    "            game.set_player_position(player_pos)\n",
    "            game.set_box_positions(boxes_pos)\n",
    "            \n",
    "            if game.apply_move(move):\n",
    "                new_state = (\n",
    "                    game.get_player_position(),\n",
    "                    tuple(game.get_box_locations()),\n",
    "                    path + move\n",
    "                )\n",
    "                queue.append(new_state)\n",
    "    \n",
    "    return None, visit_count"
   ]
  },
  {
   "cell_type": "markdown",
   "metadata": {},
   "source": [
    "### A*"
   ]
  },
  {
   "cell_type": "code",
   "execution_count": 63,
   "metadata": {},
   "outputs": [],
   "source": [
    "import heapq\n",
    "import time\n",
    "\n",
    "def manhattan_distance(pos1, pos2):\n",
    "    return abs(pos1[0] - pos2[0]) + abs(pos1[1] - pos2[1])\n",
    "\n",
    "def heuristic(game):\n",
    "    boxes = game.get_box_locations()\n",
    "    goals = game.get_goal_locations()\n",
    "    player_pos = game.get_player_position()\n",
    "    \n",
    "    total_distance = 0\n",
    "    boxes_not_on_goal = []\n",
    "    \n",
    "    for i in range(len(boxes)):\n",
    "        box_pos = boxes[i]\n",
    "        goal_pos = goals[i]\n",
    "        box_to_goal = manhattan_distance(box_pos, goal_pos)\n",
    "        total_distance += box_to_goal\n",
    "        \n",
    "        if box_pos != goal_pos:\n",
    "            boxes_not_on_goal.append(box_pos)\n",
    "    \n",
    "    if boxes_not_on_goal:\n",
    "        min_player_distance = min(manhattan_distance(player_pos, box) for box in boxes_not_on_goal)\n",
    "        min_adj_distance = max(0, min_player_distance - 1)\n",
    "        total_distance += min_adj_distance\n",
    "    \n",
    "    return total_distance\n",
    "\n",
    "def solver_astar(game_map, heuristic=heuristic):\n",
    "    from game import Game\n",
    "    \n",
    "    TIME_LIMIT = 10\n",
    "    \n",
    "    game = Game(game_map)\n",
    "    start_time = time.time()\n",
    "    start_boxes = tuple(game.get_box_locations())\n",
    "    start_player = game.get_player_position()\n",
    "    start_state = (start_player, start_boxes, \"\")\n",
    "    \n",
    "    heap = []\n",
    "    heapq.heappush(heap, (heuristic(game), 0, start_state))\n",
    "    visited = set()\n",
    "    \n",
    "    while heap:\n",
    "        if time.time() - start_time > TIME_LIMIT:\n",
    "            return None, -1\n",
    "        \n",
    "        current_f, current_g, current_state = heapq.heappop(heap)\n",
    "        player_pos, boxes_pos, path = current_state\n",
    "        state_hash = (player_pos, boxes_pos)\n",
    "        \n",
    "        if state_hash in visited:\n",
    "            continue\n",
    "        visited.add(state_hash)\n",
    "        \n",
    "        game.set_player_position(player_pos)\n",
    "        game.set_box_positions(list(boxes_pos))\n",
    "        \n",
    "        if game.is_game_won():\n",
    "            return path, len(visited)\n",
    "        \n",
    "        for move in ['U', 'D', 'L', 'R']:\n",
    "            if game.apply_move(move):\n",
    "                new_player = game.get_player_position()\n",
    "                new_boxes = tuple(game.get_box_locations())\n",
    "                new_path = path + move\n",
    "                new_g = current_g + 1\n",
    "                new_h = heuristic(game)\n",
    "                new_f = new_g + new_h\n",
    "                \n",
    "                heapq.heappush(heap, (new_f, new_g, (new_player, new_boxes, new_path)))\n",
    "                \n",
    "                game.set_player_position(player_pos)\n",
    "                game.set_box_positions(list(boxes_pos))\n",
    "    \n",
    "    return None, 0"
   ]
  },
  {
   "cell_type": "code",
   "execution_count": 64,
   "metadata": {},
   "outputs": [],
   "source": [
    "import heapq\n",
    "import time\n",
    "\n",
    "def solver_weighted_astar(game_map, heuristic=heuristic, weight=5.0):\n",
    "    from game import Game\n",
    "\n",
    "    game = Game(game_map)\n",
    "    start_time = time.time()\n",
    "    start_boxes = tuple(game.get_box_locations())\n",
    "    start_player = game.get_player_position()\n",
    "    start_state = (start_player, start_boxes, \"\")\n",
    "    \n",
    "    heap = []\n",
    "    initial_h = heuristic(game)\n",
    "    heapq.heappush(heap, (weight * initial_h, 0, start_state))\n",
    "    visited = set()\n",
    "    \n",
    "    while heap:\n",
    "        if time.time() - start_time > 60:\n",
    "            return None, -1\n",
    "        \n",
    "        current_f, current_g, current_state = heapq.heappop(heap)\n",
    "        player_pos, boxes_pos, path = current_state\n",
    "        state_hash = (player_pos, boxes_pos)\n",
    "        \n",
    "        if state_hash in visited:\n",
    "            continue\n",
    "        visited.add(state_hash)\n",
    "        game.set_player_position(player_pos)\n",
    "        game.set_box_positions(list(boxes_pos))\n",
    "        if game.is_game_won():\n",
    "            return path, len(visited)\n",
    "        \n",
    "        for move in ['U', 'D', 'L', 'R']:\n",
    "            if game.apply_move(move):\n",
    "                new_player = game.get_player_position()\n",
    "                new_boxes = tuple(game.get_box_locations())\n",
    "                new_path = path + move\n",
    "                new_g = current_g + 1\n",
    "                new_h = heuristic(game)\n",
    "                new_f = new_g + weight * new_h\n",
    "                \n",
    "                heapq.heappush(heap, (new_f, new_g, (new_player, new_boxes, new_path)))\n",
    "                \n",
    "                game.set_player_position(player_pos)\n",
    "                game.set_box_positions(list(boxes_pos))\n",
    "    \n",
    "    return None, 0"
   ]
  },
  {
   "cell_type": "markdown",
   "metadata": {},
   "source": [
    "## Solve"
   ]
  },
  {
   "cell_type": "code",
   "execution_count": 65,
   "metadata": {},
   "outputs": [],
   "source": [
    "SOLVERS = {\n",
    "    \"BFS\": solver_bfs,\n",
    "    \"DFS\": solver_dfs,\n",
    "    \"IDS\": solver_ids,\n",
    "    \"A*\": solver_astar,\n",
    "    \"Weighted A*\": solver_weighted_astar\n",
    "}"
   ]
  },
  {
   "cell_type": "code",
   "execution_count": 66,
   "metadata": {},
   "outputs": [],
   "source": [
    "def solve(map, method):  \n",
    "    \n",
    "    if not is_valid_input(map, map_file_indices, method, SOLVERS):\n",
    "        return\n",
    "    \n",
    "    file_name = \"map\" + str(map) + \".txt\"\n",
    "    with open('./assets/maps/' + file_name) as f:\n",
    "        game_map = f.read()\n",
    "    \n",
    "    start_time = time.time()\n",
    "    moves, numof_visited_states = SOLVERS[method](game_map)\n",
    "    end_time = time.time()\n",
    "    print(f\"{method} took {round(end_time - start_time, 2)} seconds on map {map} and visited {numof_visited_states} states.\")\n",
    "    \n",
    "    if moves is None:\n",
    "        print(\"No Solution Found!\")\n",
    "    else:\n",
    "        print(f\"{len(moves)} moves were used: {moves}\")\n",
    "            "
   ]
  },
  {
   "cell_type": "code",
   "execution_count": 67,
   "metadata": {},
   "outputs": [
    {
     "name": "stdout",
     "output_type": "stream",
     "text": [
      "BFS took 0.0 seconds on map 1 and visited 40 states.\n",
      "7 moves were used: UDDULRR\n"
     ]
    }
   ],
   "source": [
    "solve(1, \"BFS\")"
   ]
  },
  {
   "cell_type": "code",
   "execution_count": 68,
   "metadata": {},
   "outputs": [],
   "source": [
    "def solve_all():\n",
    "    for map in range(min(map_file_indices), max(map_file_indices) + 1):\n",
    "        for method in SOLVERS.keys():\n",
    "            solve(map, method)\n",
    "            "
   ]
  },
  {
   "cell_type": "code",
   "execution_count": 69,
   "metadata": {},
   "outputs": [
    {
     "name": "stdout",
     "output_type": "stream",
     "text": [
      "BFS took 0.0 seconds on map 1 and visited 40 states.\n",
      "7 moves were used: UDDULRR\n",
      "DFS took 0.0 seconds on map 1 and visited 8 states.\n",
      "7 moves were used: RLLRDUU\n",
      "IDS took 0.0 seconds on map 1 and visited 189 states.\n",
      "7 moves were used: UDDULRR\n",
      "A* took 0.0 seconds on map 1 and visited 44 states.\n",
      "7 moves were used: DULRRLU\n",
      "Weighted A* took 0.0 seconds on map 1 and visited 8 states.\n",
      "7 moves were used: UDLRRLD\n",
      "BFS took 0.0 seconds on map 2 and visited 18 states.\n",
      "6 moves were used: LUDDUL\n",
      "DFS took 0.0 seconds on map 2 and visited 7 states.\n",
      "6 moves were used: LLRDUU\n",
      "IDS took 0.0 seconds on map 2 and visited 74 states.\n",
      "6 moves were used: LUDDUL\n",
      "A* took 0.0 seconds on map 2 and visited 18 states.\n",
      "6 moves were used: LDULRU\n",
      "Weighted A* took 0.0 seconds on map 2 and visited 7 states.\n",
      "6 moves were used: LUDLRD\n",
      "BFS took 0.0 seconds on map 3 and visited 111 states.\n",
      "13 moves were used: ULDDUUUURDDDD\n",
      "DFS took 0.0 seconds on map 3 and visited 42 states.\n",
      "13 moves were used: ULDDUUUURDDDD\n",
      "IDS took 0.0 seconds on map 3 and visited 661 states.\n",
      "13 moves were used: ULDDUUUURDDDD\n",
      "A* took 0.0 seconds on map 3 and visited 65 states.\n",
      "14 moves were used: ULUURDDDDUULDD\n",
      "Weighted A* took 0.0 seconds on map 3 and visited 28 states.\n",
      "19 moves were used: ULDUUURDDDULDDUURDD\n",
      "BFS took 0.0 seconds on map 4 and visited 0 states.\n",
      "No Solution Found!\n",
      "DFS took 0.0 seconds on map 4 and visited 0 states.\n",
      "No Solution Found!\n",
      "IDS took 0.02 seconds on map 4 and visited 1999 states.\n",
      "No Solution Found!\n",
      "A* took 0.0 seconds on map 4 and visited 0 states.\n",
      "No Solution Found!\n",
      "Weighted A* took 0.0 seconds on map 4 and visited 0 states.\n",
      "No Solution Found!\n",
      "BFS took 0.05 seconds on map 5 and visited 4770 states."
     ]
    },
    {
     "name": "stdout",
     "output_type": "stream",
     "text": [
      "\n",
      "15 moves were used: ULDDRDLLLUUURUL\n",
      "DFS took 0.02 seconds on map 5 and visited 3058 states.\n",
      "187 moves were used: LRDLLLLUURRDRRDLLRRDLLLLURRLLDRRRRUULLLRRRDLRDLLLLURRLLDRRRURDLLLLURRULURRRDLRDLLLLURRLLDRRRRULRDLLURRDLLLLURURLDRRRDLLLLUURRDRRULRDLLLLURURDRRDLLRRDLLLLURRLLDRRRRUULDRDLRDLLLLURURDRRDLLL\n",
      "IDS took 0.19 seconds on map 5 and visited 26044 states.\n",
      "15 moves were used: ULDDRDLLLUUURUL\n",
      "A* took 0.01 seconds on map 5 and visited 520 states.\n",
      "15 moves were used: LULDDRDLLUUURUL\n",
      "Weighted A* took 0.0 seconds on map 5 and visited 84 states.\n",
      "15 moves were used: LULDLRDRDLLULUU\n",
      "BFS took 0.19 seconds on map 6 and visited 15082 states.\n",
      "34 moves were used: UUUUURRRLLLLLLLDDDDDDDDDRDLRRRRRRR\n",
      "DFS took 0.43 seconds on map 6 and visited 36639 states.\n",
      "961 moves were used: RRRRDLLLLLLLLLDRRRRRRRRRDLLLLLLLLLDRRRRRRRRRDLRULLLLLLLLLDRRRRLLLLURRRRRRRRRULLLLLLLLLURRRRRRRRRULLLLLLLLLURRRRRRRRRULLLLLLLLLURRRRRRRRRULLLLLLLLLURRRRRRRRRULRDLLLLLLLLLDRRRRRRRRRDLLLLLLLLLDRRRRRRRRRDLLLLLLLLLDRRRRRRRRRDLLLLLLLLLDRRRRRRRRRDLLLDRRLLLRRRURULLLLLLLLLDRRRDRRRLLLLLLURRRRRRRRRULLLLLLLLLURRRRRRRRRULLLLLLLLLURRRRRRRRRULLLLLLLLLURRRRRRRRRULLLLLLLLLURRRRRRRRRULLRRDLLLLLLLLLDRRRRRRRRRDLLLLLLLLLDRRRRRRRRRDLLLLLLLLLDRRRRRRRRRDLLLLLLLLLDRRRRRRRRRDLDLRURULLLLLLLLLURRRRRRRRRULLLLLLLLLURRRRRRRRRULLLLLLLLLURRRRRRRRRULLLLLLLLLURRRRRRRRRULLLRRRDLLLLLLLLLDRRRRRRRRRDLLLLLLLLLDRRRRRRRRRDLLLLLLLLLDRRRRRRRRRDLLLLLLLLLDRRRRRRRRRDLLLLLLLLLDRRRRRRLLLLLLURRRRRRRRRULLLLLLLLLURRRRRRRRRULLLLLLLLLURRRRRRRRRULLLLLLLLLURRRRRRRRRULLLLLLLLLURRRRRRRRRULLLLRRRRDLLLLLLLLLDRRRRRRRRRDLLLLLLLLLDRRRRRRRRRDLLLLLLLLLDRRRRRRRRRDLLLLLLLLLDRRRRRRRRRDLDLLLLLLLRRRRRRRURULLLLLLLLLURRRRRRRRRULLLLLLLLLURRRRRRRRRULLLLLLLLLURRRRRRRRRULLLLLLLLLURRRRRRRRRULLLLLRRRRRDLLLLLLLURRRRRRLLLLLLL\n",
      "IDS took 1.62 seconds on map 6 and visited 126071 states.\n",
      "34 moves were used: UUUUURRRLLLLLLLDDDDDDDDDRDLRRRRRRR\n",
      "A* took 0.13 seconds on map 6 and visited 4325 states.\n",
      "34 moves were used: DDDDDRRRLLLLLLLRUUUUUUUUUULRRRRRRR\n",
      "Weighted A* took 0.07 seconds on map 6 and visited 2175 states.\n",
      "34 moves were used: UUUUURRRLLLLLLLDDDDDDDDDRDLRRRRRRR\n",
      "BFS took 8.08 seconds on map 7 and visited 511463 states.\n",
      "34 moves were used: RURRDDDDLDRUUUULLLRDRDRDDLLDLLUUDR\n",
      "DFS took 62.04 seconds on map 7 and visited -1 states.\n",
      "No Solution Found!\n",
      "IDS took 28.73 seconds on map 7 and visited 3287503 states.\n",
      "34 moves were used: RURRDDDDLDRUUUULLLRDRDRDDLLDLLUUDR\n",
      "A* took 1.04 seconds on map 7 and visited 39718 states.\n",
      "34 moves were used: RURRDDDDLDRUUUULLLRDRDRDDLLDLLURLU\n",
      "Weighted A* took 0.02 seconds on map 7 and visited 1288 states.\n",
      "42 moves were used: RURRDLLLRRRDDDLDRLLDLLUUDRRURRDLURUUULLDRD\n",
      "BFS took 0.04 seconds on map 8 and visited 5083 states.\n",
      "14 moves were used: UURDLDRRDRURDR\n",
      "DFS took 0.06 seconds on map 8 and visited 8058 states.\n",
      "481 moves were used: RRRRLLLLDRRRRRRURRRRRRRRRRDLLLLLLLLLLLLLLLLDRRRRRRRRRRRRRRLLLLLLLLLLLLLLDRRRRDRDLLLLLLLLURRRRURRRRDLDRDLRDLLLLLLLLDRRRRRRRDRULLLLLLLLURRRRRRURRDLLLLLLLLDRRRRRRRDRULLLLLLLLURRRRURRRRDLLLLLLLLLLLLLLLLDRRRRRRRRRRRRRRLLLLLLLLLLLLLLDRRRRRDLLLLLLLLDRRRRRRRDRULLLLLLLLURRRRURRRRDLDRULLLLLLLLLLLLLLLLDRRRRRRRRRRRRRRDLLLDRRRRRRURRRRRRDRRRDRUULRDLLLLLLLLURRRRRRRRDLLLLLLLLLLLLLLLLDRRRRRRRRRRRRRRDRRDLLRRDLLLLLLLLURRRRRRLLLLLLDRRRRRRRRUULLLLLDRRRRRRURRRRRRRRRRDDLLLLLLLLLLLLLLLLDRRRRDRDLRDLLU\n",
      "IDS took 0.15 seconds on map 8 and visited 27473 states.\n",
      "14 moves were used: UURDLDRRDRURDR\n",
      "A* took 0.0 seconds on map 8 and visited 105 states.\n",
      "19 moves were used: URRRRRRRRRRRRRURDDR\n",
      "Weighted A* took 0.0 seconds on map 8 and visited 20 states.\n",
      "19 moves were used: URRRRRRRRRRRRRURDDR\n",
      "BFS took 63.4 seconds on map 9 and visited -1 states.\n",
      "No Solution Found!\n",
      "DFS took 64.02 seconds on map 9 and visited -1 states.\n",
      "No Solution Found!\n",
      "IDS took 60.42 seconds on map 9 and visited 4863696 states.\n",
      "No Solution Found!\n",
      "A* took 10.35 seconds on map 9 and visited -1 states.\n",
      "No Solution Found!\n",
      "Weighted A* took 61.85 seconds on map 9 and visited -1 states.\n",
      "No Solution Found!\n",
      "BFS took 2.11 seconds on map 10 and visited 228003 states.\n",
      "46 moves were used: RRRRRDRULURULLLULDRUUULDRDLDRRDRULURURDDRDLLLL\n",
      "DFS took 1.81 seconds on map 10 and visited 208951 states.\n",
      "998 moves were used: RRRRRLLLLLLLDRRRRRRRRRULRDLLLLLLLLLURURRRRRRRDLLLLLURRRURRULLLLLDRDLLUUURDRDLDRRLLDRRRRRULLLLLLLLDRRRRRRRLLLLLLLDRRRRRRRRRULRDLLURRDLLLLLLLLLURRRRRRULLLLLLURRRRRRRRRDLRDLLLLLLLLLURRRRRRURRDRULRDLLLLLURRLLDRRRRRULLRRDLLLLLURRURRDRDLLLLLLLLLURRRRURLLLLLDRRRRRRRRRULRDLLLLLLLLLURRRRRURDRRDLLLLLURRLLDRRRRRULLLLLLLLDRRRRRDRRRRULLLRRRDLLLLLLLLLURRRRURRRRDLLURDLLLLRRRRDLLLLLLLLLURRRRRRRLLLLLLLDRRRRRRRRRULRDLLLLLLLLLURRRRRURRRDLLLLLURRURLLDRRULDRRRRDLLRRDLLLLLLLLLURRRRRRRLLLLLLLDRRRRRRRRRUULLLLDRRRRRUULRDLLLLLLLLURRRRRRRRRDLLLLURDLLURURDRRDLLLLLLLLURRRRRRRRRDLRDLRDLLLLLLLLLURRRRRRRLLLLLLLDRRRRRRRRURDLLLLLLLLLURRRRRRRURDLLLLLURRLLDRRRRRULLLLLLLLDRRRRRRRRRULLRRDLLLLLLLLLURRRRRRRRDLLLLLUURDLLURRURRDLRDLLLLLLLLDRRRRRRRRRULLDLLURRLLDRRRRRULLLLLLLLDRRRRRRRRRULRDLLLLLLLLLURRRRRRRRDLLLLLUURDLLURRLLDRRULURRRRRDLRULLDRRDLLLLLLLLDRRRRRRRRRUULDLLULLDRRRRRULLLLLLLLDRRRRRRRRRULRDLLLLLLLLLURRRRRRRRDLLLLLURURDLURDLURRLLDRRULDRRLLDRRRRRUUULDRDLLLLLLLLDRRRRRRRDRRULRDLLLLLLLLLURRRRRRURRDLLURDLLLRRULLRRRDLLLDRDL\n",
      "IDS took 20.89 seconds on map 10 and visited 2604381 states.\n",
      "46 moves were used: RRRRRDRULURULLLULDRUUULDRDLDRRDRULURURDDRDLLLL\n",
      "A* took 2.03 seconds on map 10 and visited 89118 states.\n",
      "46 moves were used: RRRRRDRULURULLLULDRUUULDRDLDRRDRULURURDDRDLLLL\n",
      "Weighted A* took 0.76 seconds on map 10 and visited 37783 states.\n",
      "85 moves were used: RRRRRDRULURUULLDLLUURDLDRDDLLURRURURRDLLLULDLURDDRULURURDDRDLLLLUUURRDRULLLLDRRUULULD\n"
     ]
    }
   ],
   "source": [
    "solve_all()"
   ]
  }
 ],
 "metadata": {
  "kernelspec": {
   "display_name": "Python 3",
   "language": "python",
   "name": "python3"
  },
  "language_info": {
   "codemirror_mode": {
    "name": "ipython",
    "version": 3
   },
   "file_extension": ".py",
   "mimetype": "text/x-python",
   "name": "python",
   "nbconvert_exporter": "python",
   "pygments_lexer": "ipython3",
   "version": "3.12.7"
  }
 },
 "nbformat": 4,
 "nbformat_minor": 2
}
