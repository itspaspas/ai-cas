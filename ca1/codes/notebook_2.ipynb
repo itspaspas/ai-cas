{
 "cells": [
  {
   "cell_type": "code",
   "execution_count": 1,
   "metadata": {},
   "outputs": [],
   "source": [
    "from game import Game\n",
    "import time\n",
    "import os\n",
    "import re"
   ]
  },
  {
   "cell_type": "markdown",
   "metadata": {},
   "source": [
    "## Load maps"
   ]
  },
  {
   "cell_type": "code",
   "execution_count": 2,
   "metadata": {},
   "outputs": [],
   "source": [
    "def extract_map_files(directory):\n",
    "    pattern = re.compile(r'^map(\\d+)\\.txt$')\n",
    "    map_file_indices = []\n",
    "\n",
    "    for file_name in os.listdir(directory):\n",
    "        match = pattern.match(file_name)\n",
    "        if match:\n",
    "            map_file_indices.append(match.group(1))\n",
    "\n",
    "    return [int(idx) for idx in map_file_indices]\n",
    "\n",
    "def is_valid_input(map, indices, algorithm, solvers):\n",
    "    valid_input = True\n",
    "    if map not in indices:\n",
    "        print(f\"Map index out of range. Please choose within range {min(indices)} to {max(indices)}\")\n",
    "        valid_input = False\n",
    "    if algorithm not in solvers.keys():    \n",
    "        print(f\"{algorithm} is not a defined algorithm. Please choose from\", *[f\"{solver} ({i+1})  \" for i, solver in enumerate(solvers.keys())])\n",
    "        valid_input = False\n",
    "    return valid_input\n",
    "\n",
    "def load_map(map_index):  \n",
    "    file_name = \"map\" + str(map_index) + \".txt\"\n",
    "    with open('./assets/maps/' + file_name) as f:\n",
    "        game_map = f.read()\n",
    "    return game_map\n",
    "\n",
    "map_file_indices = extract_map_files(\"./assets/maps/\")"
   ]
  },
  {
   "cell_type": "markdown",
   "metadata": {},
   "source": [
    "## Tutorial"
   ]
  },
  {
   "cell_type": "code",
   "execution_count": 3,
   "metadata": {},
   "outputs": [
    {
     "name": "stdout",
     "output_type": "stream",
     "text": [
      "This is an example of the game map:\n",
      "W\tP1\tH\tW\tW\tW\tW\n",
      "W\tW\tW\tG1\tW\tW\tW\n",
      "W\tW\tW\tB1\tW\tW\tW\n",
      "W\tG2\tB2\t.\tP1\tW\tW\n",
      "W\tW\tW\tB3\tW\tW\tW\n",
      "W\tW\tW\tG3\tW\tW\tW\n",
      "W\tW\tW\tW\tW\tW\tW\n"
     ]
    }
   ],
   "source": [
    "print(\"This is an example of the game map:\")\n",
    "map = load_map(2)\n",
    "game = Game(map)\n",
    "game.display_map()"
   ]
  },
  {
   "cell_type": "code",
   "execution_count": 4,
   "metadata": {},
   "outputs": [
    {
     "data": {
      "text/plain": [
       "[(2, 3), (3, 2), (4, 3)]"
      ]
     },
     "execution_count": 4,
     "metadata": {},
     "output_type": "execute_result"
    }
   ],
   "source": [
    "game.get_box_locations()"
   ]
  },
  {
   "cell_type": "code",
   "execution_count": 5,
   "metadata": {},
   "outputs": [
    {
     "data": {
      "text/plain": [
       "[(1, 3), (3, 1), (5, 3)]"
      ]
     },
     "execution_count": 5,
     "metadata": {},
     "output_type": "execute_result"
    }
   ],
   "source": [
    "game.get_goal_locations()"
   ]
  },
  {
   "cell_type": "code",
   "execution_count": 6,
   "metadata": {},
   "outputs": [
    {
     "data": {
      "text/plain": [
       "(0, 2)"
      ]
     },
     "execution_count": 6,
     "metadata": {},
     "output_type": "execute_result"
    }
   ],
   "source": [
    "game.get_player_position()"
   ]
  },
  {
   "cell_type": "markdown",
   "metadata": {},
   "source": [
    "- W : Wall\n",
    "- H : Human\n",
    "- B : Box\n",
    "- P : Portal\n",
    "- G : Goal"
   ]
  },
  {
   "cell_type": "code",
   "execution_count": 7,
   "metadata": {},
   "outputs": [
    {
     "name": "stdout",
     "output_type": "stream",
     "text": [
      "Move U is valid: False\n",
      "Move D is valid: False\n",
      "Move R is valid: False\n",
      "Move L is valid: True\n",
      "W\tP1\t.\tW\tW\tW\tW\n",
      "W\tW\tW\tG1\tW\tW\tW\n",
      "W\tW\tW\tB1\tW\tW\tW\n",
      "W\tG2\tB2\tH\tP1\tW\tW\n",
      "W\tW\tW\tB3\tW\tW\tW\n",
      "W\tW\tW\tG3\tW\tW\tW\n",
      "W\tW\tW\tW\tW\tW\tW\n"
     ]
    }
   ],
   "source": [
    "for direction in ['U', 'D', 'R', 'L']:\n",
    "    result = game.apply_move(direction)\n",
    "    print(f\"Move {direction} is valid: {result}\")\n",
    "    if result:\n",
    "        game.display_map()"
   ]
  },
  {
   "cell_type": "code",
   "execution_count": 8,
   "metadata": {},
   "outputs": [
    {
     "name": "stdout",
     "output_type": "stream",
     "text": [
      "W\tP1\t.\tW\tW\tW\tW\n",
      "W\tW\tW\tG1/B1\tW\tW\tW\n",
      "W\tW\tW\tH\tW\tW\tW\n",
      "W\tG2\tB2\t.\tP1\tW\tW\n",
      "W\tW\tW\tB3\tW\tW\tW\n",
      "W\tW\tW\tG3\tW\tW\tW\n",
      "W\tW\tW\tW\tW\tW\tW\n"
     ]
    }
   ],
   "source": [
    "game.apply_move('U')\n",
    "game.display_map()"
   ]
  },
  {
   "cell_type": "code",
   "execution_count": 9,
   "metadata": {},
   "outputs": [
    {
     "name": "stdout",
     "output_type": "stream",
     "text": [
      "W\tP1\t.\tW\tW\tW\tW\n",
      "W\tW\tW\tG1/B1\tW\tW\tW\n",
      "W\tW\tW\t.\tW\tW\tW\n",
      "W\tG2/B2\t.\t.\tP1\tW\tW\n",
      "W\tW\tW\tH\tW\tW\tW\n",
      "W\tW\tW\tG3/B3\tW\tW\tW\n",
      "W\tW\tW\tW\tW\tW\tW\n",
      "Is game won? True\n"
     ]
    }
   ],
   "source": [
    "game.apply_moves(['D', 'L', 'R', 'D']) \n",
    "game.display_map()\n",
    "print(\"Is game won?\", game.is_game_won())"
   ]
  },
  {
   "cell_type": "markdown",
   "metadata": {},
   "source": [
    "## Solvers"
   ]
  },
  {
   "cell_type": "markdown",
   "metadata": {},
   "source": [
    "I put a time limit for each solver:"
   ]
  },
  {
   "cell_type": "code",
   "execution_count": 10,
   "metadata": {},
   "outputs": [],
   "source": [
    "TIME_LIMIT = 60"
   ]
  },
  {
   "cell_type": "markdown",
   "metadata": {},
   "source": [
    "### BFS"
   ]
  },
  {
   "cell_type": "code",
   "execution_count": 11,
   "metadata": {},
   "outputs": [],
   "source": [
    "# TODO: Must return moves (if there is no solution return None), number of visited states\n",
    "from collections import deque\n",
    "\n",
    "def solver_bfs(game_map, start_time):\n",
    "    game = Game(game_map)\n",
    "    queue = deque([(game.get_player_position(), tuple(game.get_box_locations()), \"\")])\n",
    "    visited = set()\n",
    "    \n",
    "    while queue:\n",
    "        if(time.time() - start_time > TIME_LIMIT):\n",
    "            return None, -1\n",
    "        player_position, boxes_position, path = queue.popleft()\n",
    "        state_hash = (player_position, boxes_position)\n",
    "        \n",
    "        if state_hash in visited:\n",
    "            continue\n",
    "        visited.add(state_hash)\n",
    "\n",
    "\n",
    "        for move in ['U', 'D', 'L', 'R']:\n",
    "            game.set_player_position(player_position)\n",
    "            game.set_box_positions(boxes_position)\n",
    "\n",
    "            if game.apply_move(move):\n",
    "                if game.is_game_won():\n",
    "                    return path + move, len(visited)\n",
    "                new_state = (game.get_player_position(), tuple(game.get_box_locations()), path + move)\n",
    "                queue.append(new_state)\n",
    "                \n",
    "    \n",
    "    return None, 0"
   ]
  },
  {
   "cell_type": "markdown",
   "metadata": {},
   "source": [
    "### DFS"
   ]
  },
  {
   "cell_type": "code",
   "execution_count": 12,
   "metadata": {},
   "outputs": [],
   "source": [
    "# TODO: Must return moves, number of visited states\n",
    "def solver_dfs(game_map, start_time, depth_limit=1000):\n",
    "    game = Game(game_map)\n",
    "    stack = [(game.get_player_position(), tuple(game.get_box_locations()), \"\")]\n",
    "    visited = set()\n",
    "\n",
    "    while stack:\n",
    "        if(time.time() - start_time > TIME_LIMIT):\n",
    "            return None, -1\n",
    "        \n",
    "        player_position, boxes_position, path = stack.pop()\n",
    "        state_hash = (player_position, boxes_position)\n",
    "\n",
    "        if state_hash in visited:\n",
    "            continue\n",
    "\n",
    "        visited.add(state_hash)\n",
    "\n",
    "        if len(path) >= depth_limit:\n",
    "            continue\n",
    "\n",
    "        for move in ['U', 'D', 'L', 'R']:\n",
    "            game.set_player_position(player_position)\n",
    "            game.set_box_positions(boxes_position)\n",
    "\n",
    "            if game.is_game_won():\n",
    "                    return path, len(visited)\n",
    "            \n",
    "            if game.apply_move(move):\n",
    "                if game.is_game_won():\n",
    "                    return path + move, len(visited)\n",
    "                new_state = (game.get_player_position(), tuple(game.get_box_locations()), path + move)  \n",
    "                stack.append(new_state)\n",
    "    \n",
    "    return None, 0\n"
   ]
  },
  {
   "cell_type": "markdown",
   "metadata": {},
   "source": [
    "### IDS"
   ]
  },
  {
   "cell_type": "code",
   "execution_count": 13,
   "metadata": {},
   "outputs": [],
   "source": [
    "def solver_ids(game_map, start_time, max_depth=1000):\n",
    "    game = Game(game_map)\n",
    "    initial_player_position = game.get_player_position()\n",
    "    initial_boxes_position = tuple(game.get_box_locations())\n",
    "    \n",
    "    total_visited = 0\n",
    "    \n",
    "    for depth in range(max_depth):\n",
    "        \n",
    "        visited = set()\n",
    "        queue = deque([(initial_player_position, initial_boxes_position, \"\")])\n",
    "        \n",
    "        while queue:\n",
    "            if time.time() - start_time > TIME_LIMIT:\n",
    "                return None, -1\n",
    "                \n",
    "            player_position, boxes_position, path = queue.popleft()\n",
    "            \n",
    "            if (player_position, boxes_position) in visited:\n",
    "                continue\n",
    "                \n",
    "            visited.add((player_position, boxes_position))\n",
    "            total_visited += 1\n",
    "\n",
    "            game.set_player_position(player_position)\n",
    "            game.set_box_positions(boxes_position)\n",
    "            if game.is_game_won():\n",
    "                return path, total_visited\n",
    "                \n",
    "            if len(path) >= depth:\n",
    "                continue\n",
    "                \n",
    "            for move in ['U', 'D', 'L', 'R']:\n",
    "                game.set_player_position(player_position)\n",
    "                game.set_box_positions(boxes_position)\n",
    "                \n",
    "                if game.apply_move(move):\n",
    "                    new_player_pos = game.get_player_position()\n",
    "                    new_boxes_pos = tuple(game.get_box_locations())\n",
    "                    new_path = path + move\n",
    "                    \n",
    "                    queue.append((new_player_pos, new_boxes_pos, new_path))\n",
    "    \n",
    "    return None, total_visited"
   ]
  },
  {
   "cell_type": "markdown",
   "metadata": {},
   "source": [
    "### A*"
   ]
  },
  {
   "cell_type": "markdown",
   "metadata": {},
   "source": [
    "#### Manhatann Distance and heuristic functions"
   ]
  },
  {
   "cell_type": "markdown",
   "metadata": {},
   "source": [
    " - *First heuristic*:\n",
    "    Sum of Manhattan distances from each box to its goal. \n",
    "    This is admissible cause box can move at best one step per move."
   ]
  },
  {
   "cell_type": "code",
   "execution_count": 14,
   "metadata": {},
   "outputs": [],
   "source": [
    "def manhattan_distance(pos1, pos2):\n",
    "    return abs(pos1[0] - pos2[0]) + abs(pos1[1] - pos2[1])\n",
    "\n",
    "def heuristic_1(game):\n",
    "    \n",
    "    boxes = game.get_box_locations()\n",
    "    goals = game.get_goal_locations()\n",
    "    \n",
    "    total_distance = 0\n",
    "    for i in range(len(boxes)):\n",
    "        total_distance += manhattan_distance(boxes[i], goals[i])\n",
    "        \n",
    "    return total_distance"
   ]
  },
  {
   "cell_type": "markdown",
   "metadata": {},
   "source": [
    "- *Second heuristic*:\n",
    "    Sum of Manhattan distances and player distance to nearest box."
   ]
  },
  {
   "cell_type": "code",
   "execution_count": 15,
   "metadata": {},
   "outputs": [],
   "source": [
    "def heuristic_2(game):\n",
    "\n",
    "    boxes = game.get_box_locations()\n",
    "    goals = game.get_goal_locations()\n",
    "    player_pos = game.get_player_position()\n",
    "   \n",
    "    total_distance = 0\n",
    "    for i in range(len(boxes)):\n",
    "        total_distance += manhattan_distance(boxes[i], goals[i])\n",
    "    \n",
    "    min_distance_to_box = float('inf')\n",
    "    for box in boxes:\n",
    "        if box in goals:  #\n",
    "            continue\n",
    "        dist = manhattan_distance(player_pos, box)\n",
    "        if dist < min_distance_to_box:\n",
    "            min_distance_to_box = dist\n",
    "    \n",
    "    if min_distance_to_box < float('inf'):\n",
    "        total_distance += min_distance_to_box\n",
    "        \n",
    "    return total_distance"
   ]
  },
  {
   "cell_type": "markdown",
   "metadata": {},
   "source": [
    "- *Third heuristic*:\n",
    "    1. Sum of Manhattan distances from each box to its goal\n",
    "    2. Player distance to the nearest box that's not on its goal\n",
    "    3. Penalty for boxes in corners or against walls (deadlock detection)"
   ]
  },
  {
   "cell_type": "code",
   "execution_count": 16,
   "metadata": {},
   "outputs": [],
   "source": [
    "def heuristic_3(game):\n",
    "\n",
    "    boxes = game.get_box_locations()\n",
    "    goals = game.get_goal_locations()\n",
    "    player_pos = game.get_player_position()\n",
    "    \n",
    "    total_distance = 0\n",
    "    boxes_not_on_goal = []\n",
    "    \n",
    "    for i in range(len(boxes)):\n",
    "        box_pos = boxes[i]\n",
    "        goal_pos = goals[i]\n",
    "        box_to_goal = manhattan_distance(box_pos, goal_pos)\n",
    "        total_distance += box_to_goal\n",
    "        \n",
    "        if box_pos != goal_pos:\n",
    "            boxes_not_on_goal.append(box_pos)\n",
    "    \n",
    "    if boxes_not_on_goal:\n",
    "        min_distance_to_box = min(manhattan_distance(player_pos, box) for box in boxes_not_on_goal)\n",
    "        total_distance += min_distance_to_box \n",
    "    \n",
    "    for box_pos in boxes:\n",
    "        if box_pos in goals: \n",
    "            continue\n",
    "            \n",
    "        wall_count = 0\n",
    "        for direction in [(-1, 0), (1, 0), (0, -1), (0, 1)]:\n",
    "            adj_pos = (box_pos[0] + direction[0], box_pos[1] + direction[1])\n",
    "            if game.is_wall(adj_pos):\n",
    "                wall_count += 1\n",
    "        \n",
    "        if wall_count >= 1: \n",
    "            total_distance += 5  \n",
    "    \n",
    "    return total_distance"
   ]
  },
  {
   "cell_type": "markdown",
   "metadata": {},
   "source": [
    "- *Fourth heuristic*: count of the boxes that are not in their goal cell"
   ]
  },
  {
   "cell_type": "code",
   "execution_count": 17,
   "metadata": {},
   "outputs": [],
   "source": [
    "def heuristic_4(game):\n",
    "    boxes = game.get_box_locations()\n",
    "    goals = game.get_goal_locations()\n",
    "\n",
    "    distance = 0\n",
    "    for i in range(len(boxes)):\n",
    "        if boxes[i] != goals[i]:\n",
    "            distance += 1\n",
    "\n",
    "    return distance        "
   ]
  },
  {
   "cell_type": "code",
   "execution_count": 18,
   "metadata": {},
   "outputs": [],
   "source": [
    "import heapq\n",
    "\n",
    "def solver_astar(game_map, start_time, heuristic=heuristic_3):\n",
    "    game = Game(game_map)\n",
    "    start_state = (game.get_player_position(), tuple(game.get_box_locations()), \"\")\n",
    "    \n",
    "    heap = [(0 + heuristic(game), 0, start_state)] \n",
    "    visited = set()\n",
    "\n",
    "    while heap:\n",
    "        if(time.time() - start_time > TIME_LIMIT):\n",
    "            return None, -1\n",
    "        _, g, (player_position, boxes_position, path) = heapq.heappop(heap)\n",
    "        state_hash = (player_position, boxes_position)\n",
    "\n",
    "        if state_hash in visited:\n",
    "            continue\n",
    "        visited.add(state_hash)\n",
    "\n",
    "        game.set_player_position(player_position)\n",
    "        game.set_box_positions(boxes_position)\n",
    "\n",
    "        if game.is_game_won():\n",
    "            return path, len(visited)\n",
    "\n",
    "        for move in ['U', 'D', 'L', 'R']:\n",
    "            if game.apply_move(move):\n",
    "                new_state = (game.get_player_position(), tuple(game.get_box_locations()), path + move)\n",
    "                new_g = g + 1\n",
    "                new_f = new_g + heuristic(game)\n",
    "\n",
    "                heapq.heappush(heap, (new_f, new_g, new_state))\n",
    "\n",
    "                game.set_player_position(player_position)\n",
    "                game.set_box_positions(boxes_position)\n",
    "\n",
    "    return None, 0"
   ]
  },
  {
   "cell_type": "markdown",
   "metadata": {},
   "source": [
    "### Weighted A*"
   ]
  },
  {
   "cell_type": "code",
   "execution_count": 19,
   "metadata": {},
   "outputs": [],
   "source": [
    "def solver_weighted_astar(game_map, start_time, heuristic=heuristic_3, w=5):\n",
    "    game = Game(game_map)\n",
    "    start_state = (game.get_player_position(), tuple(game.get_box_locations()), \"\")\n",
    "\n",
    "    heap = [(0 + w * heuristic(game), 0, start_state)] \n",
    "    visited = set()\n",
    "\n",
    "    while heap:\n",
    "        if(time.time() - start_time > TIME_LIMIT):\n",
    "            return None, -1\n",
    "\n",
    "        _, g, (player_position, boxes_position, path) = heapq.heappop(heap)\n",
    "        state_hash = (player_position, boxes_position)\n",
    "\n",
    "        if state_hash in visited:\n",
    "            continue\n",
    "        visited.add(state_hash)\n",
    "\n",
    "        game.set_player_position(player_position)\n",
    "        game.set_box_positions(boxes_position)\n",
    "\n",
    "        if game.is_game_won():\n",
    "            return path, len(visited)\n",
    "\n",
    "        for move in ['U', 'D', 'L', 'R']:\n",
    "            if game.apply_move(move):\n",
    "                new_state = (game.get_player_position(), tuple(game.get_box_locations()), path + move)\n",
    "                new_g = g + 1\n",
    "                new_f = new_g + w * heuristic(game) \n",
    "\n",
    "                heapq.heappush(heap, (new_f, new_g, new_state))\n",
    "\n",
    "                game.set_player_position(player_position)\n",
    "                game.set_box_positions(boxes_position)\n",
    "    return None, 0\n"
   ]
  },
  {
   "cell_type": "markdown",
   "metadata": {},
   "source": [
    "## Solve"
   ]
  },
  {
   "cell_type": "code",
   "execution_count": 20,
   "metadata": {},
   "outputs": [],
   "source": [
    "SOLVERS = {\n",
    "    \"BFS\": solver_bfs,\n",
    "    \"DFS\": solver_dfs,\n",
    "    \"IDS\": solver_ids,\n",
    "    \"A*\": solver_astar,\n",
    "    \"Weighted A*\": solver_weighted_astar\n",
    "}"
   ]
  },
  {
   "cell_type": "code",
   "execution_count": 21,
   "metadata": {},
   "outputs": [],
   "source": [
    "def solve(map, method):  \n",
    "    \n",
    "    if not is_valid_input(map, map_file_indices, method, SOLVERS):\n",
    "        return\n",
    "    \n",
    "    file_name = \"map\" + str(map) + \".txt\"\n",
    "    with open('./assets/maps/' + file_name) as f:\n",
    "        game_map = f.read()\n",
    "    \n",
    "    start_time = time.time()\n",
    "    moves, numof_visited_states = SOLVERS[method](game_map, start_time)\n",
    "    end_time = time.time()\n",
    "    \n",
    "    time_spended = end_time - start_time\n",
    "\n",
    "    length_moves = 0\n",
    "    if moves is not None:\n",
    "        length_moves = len(moves)\n",
    "\n",
    "    return moves, length_moves, method, time_spended, map, numof_visited_states            "
   ]
  },
  {
   "cell_type": "code",
   "execution_count": 22,
   "metadata": {},
   "outputs": [],
   "source": [
    "import pandas as pd\n",
    "\n",
    "def solve_all():\n",
    "    maps = [f'map{map_num}' for map_num in range(min(map_file_indices), max(map_file_indices) + 1)]\n",
    "    \n",
    "    metrics = ['moves', 'length_moves', 'time_spent', 'numof_visited_states']\n",
    "    columns = pd.MultiIndex.from_product([maps, metrics], names=['Map', 'Metric'])\n",
    "    df = pd.DataFrame(index=list(SOLVERS.keys()), columns=columns)\n",
    "\n",
    "    for map_num in range(min(map_file_indices), max(map_file_indices) + 1):\n",
    "        map_name = f'map{map_num}'\n",
    "        for method in SOLVERS.keys():\n",
    "            moves, length_moves, _, time_spent, _, num_visited = solve(map_num, method)\n",
    "            \n",
    "            df.loc[method, (map_name, 'moves')] = moves\n",
    "            df.loc[method, (map_name, 'length_moves')] = length_moves\n",
    "            df.loc[method, (map_name, 'time_spent')] = time_spent\n",
    "            df.loc[method, (map_name, 'numof_visited_states')] = num_visited\n",
    "\n",
    "    return df\n",
    "   "
   ]
  },
  {
   "cell_type": "code",
   "execution_count": 23,
   "metadata": {},
   "outputs": [],
   "source": [
    "data = solve_all()"
   ]
  },
  {
   "cell_type": "code",
   "execution_count": 24,
   "metadata": {},
   "outputs": [
    {
     "name": "stdout",
     "output_type": "stream",
     "text": [
      "('RURRRLLLDRDRULURURDRURDRDDLLUDRRULLRUULDDRDLDLULUUUUUUULULDLDRRURDDDDDLDR', 154035)\n"
     ]
    }
   ],
   "source": [
    "TIME_LIMIT = 60\n",
    "\n",
    "print(solver_weighted_astar(load_map(9), time.time(), heuristic=heuristic_3, w=5))"
   ]
  },
  {
   "cell_type": "markdown",
   "metadata": {},
   "source": [
    "# Questions"
   ]
  },
  {
   "cell_type": "markdown",
   "metadata": {},
   "source": [
    "<b> 1. </b> Defining the entire map as a state for each move would store a large amount of unnecessary information, especially in large maps with many cells. Since the locations of walls, portals, and empty spaces remain constant throughout the game, we can optimize storage by only saving the positions of the player and boxes. This significantly reduces memory usage and improves efficiency."
   ]
  },
  {
   "cell_type": "markdown",
   "metadata": {},
   "source": [
    "<b>2.</b> Actions are any operations that modify the state. Based on our state definition, each action represents the player's movement in one of four directions: Up (U), Right (R), Left (L), or Down (D).\n",
    "- An action is valid if: \n",
    "    - There is no wall blocking the player's movement in the chosen direction\n",
    "    - If a box is in the player's path, the next cell must be empty to allow the box to be pushed.\n",
    "\n",
    "- An action can modify the state:\n",
    "    - The player's position changes based on the selected direction.\n",
    "    - If the player pushes a box, its position is updated accordingly.\n",
    "\n",
    "also moving through the portals and pushing boxes are considered action."
   ]
  },
  {
   "cell_type": "markdown",
   "metadata": {},
   "source": [
    "<b>3.</b> Actions and States are defined in the previous parts. <b>Goal state</b> is an state in which all boxes are in their own goal location. <b>Initial State</b> is initial location of player and the boxes on the map.  "
   ]
  },
  {
   "cell_type": "markdown",
   "metadata": {},
   "source": [
    "<b>4. </b> If we expand all possible moves at each steps it may be not optimal in all cases:\n",
    "\n",
    "- Some paths lead to deadends for example a box can get stuck in a corner and can no longer reach its goal.\n",
    "- Player can go forward and back without moving a box and this leads to a repeated state.\n",
    "- moving in circles and not moving any box also can lead to repeated state.\n",
    "\n",
    "We can use some strategies to avoid above issues:\n",
    "- If a box get stuck in a corner, ignore that state and stop expanding it.\n",
    "- Consider a visited set to avoid repeated states. \n",
    "- By defining a heuristic in A* algorithm, we first expand states that are more probably near to goal and avoid expanding states that are too far from the goal state.\n",
    "\n",
    "To make space complexity optimal, we can just store location of player and boxes instead of the whole map(as we did in part 1)."
   ]
  },
  {
   "cell_type": "markdown",
   "metadata": {},
   "source": [
    "<b>5.</b>\n",
    "\n",
    "- BFS: First expands the states that have less height in tree of search.\n",
    "    - Pros(+): Finds the optimal path in unweighted graphs\n",
    "    - Cons(-): High Space complexity\n",
    "\n",
    "- DFS: expands states in the depth first\n",
    "    - Pros(+): Low Space complexity\n",
    "    - Cons(-): answer is not optimal and it may be very long, agent could get stuck in loops and unnecessary iterations which leads unoptimal answers\n",
    "        , can get stuck in infinite loops\n",
    "- IDS: DFS in different levels of graph from 1 to end\n",
    "    - Pros(+): less space complexity than BFS, better answers than DFS     \n",
    "    - Cons(-): repeating DFS in different levels, takes a lot of time\n",
    "\n",
    "- A*: expands states with minimum f = g + h\n",
    "    - Pros(+): Fastest algorithm if we have a good heuristic\n",
    "    - Cons(-): calculating a good heuristic may need a lot of time, and also finding one is not always easy\n",
    "\n",
    "- Weighted A*: expands states with minimum f = g + alpha * h\n",
    "    - Pros(+): Finds the goal faster in comparison to A*\n",
    "    - Cons(-): its not optimal in comparison to A*\n"
   ]
  },
  {
   "cell_type": "markdown",
   "metadata": {},
   "source": [
    "<table>\n",
    "    <tr>\n",
    "        <th>Algorithm</th>\n",
    "        <th>Completeness</th>\n",
    "        <th>Optimality</th>\n",
    "    </tr>\n",
    "    <tr>\n",
    "        <td><strong>BFS</strong></td>\n",
    "        <td>Yes</td>\n",
    "        <td>Yes (if all moves have equal cost)</td>\n",
    "    </tr>\n",
    "    <tr>\n",
    "        <td><strong>DFS</strong></td>\n",
    "        <td>Yes (if depth is limited)</td>\n",
    "        <td>No</td>\n",
    "    </tr>\n",
    "    <tr>\n",
    "        <td><strong>IDS</strong></td>\n",
    "        <td>Yes</td>\n",
    "        <td>Yes (if all moves have equal cost)</td>\n",
    "    </tr>\n",
    "    <tr>\n",
    "        <td><strong>A*</strong></td>\n",
    "        <td>Yes</td>\n",
    "        <td>Yes (with an admissible heuristic)</td>\n",
    "    </tr>\n",
    "    <tr>\n",
    "        <td><strong>Weighted A*</strong></td>\n",
    "        <td>Yes (but may not find the shortest path)</td>\n",
    "        <td>No (approximates optimality)</td>\n",
    "    </tr>\n",
    "</table>\n"
   ]
  },
  {
   "cell_type": "markdown",
   "metadata": {},
   "source": [
    "a. as discussed above, DFS doesnt find the optimal answer. but in some problems, optimality isnt important compared to space complexity. as long as space complexity of DFS is O(bd) and its very low, it way be used in some cases.\n",
    "\n",
    "b. IDS provides an algorithm with space complexity near to DFS and optimality near to BFS. this algorithm solves the space problem for BFS and optimality issue for DFS."
   ]
  },
  {
   "cell_type": "markdown",
   "metadata": {},
   "source": [
    "<b>6.</b> Algorithms are implemented above. results are as expected, near to what we knew in theory."
   ]
  },
  {
   "cell_type": "markdown",
   "metadata": {},
   "source": [
    "<b>7. </b>\n",
    "\n",
    "1. First heuristic is SUM of Manhatann distances of all boxes to their goal cells. The Manhatann distance of each box is minimum steps needed to move the box from its current postion to its goal cell. Moving a box decreases the heuristic at most by 1 (the reduction in Manhattan distance).\n",
    "The cost of moving a box is always larger or equal to the decrease in heuristic.\n",
    "But due to the portals, distance of a box to its goal could be less than the manhatann distance. So this is not addmisible and consistent. \n",
    "\n",
    "2. Second heuristic is SUM of Manhatann distances of boxes to their goal states and minimum distance of player to a box(which is not in goal cell). It includes the same Manhattan distance heuristic as First heuristic (which we confirmed is admissible). It also adds the Manhattan distance from the player to the closest box, which is an additional cost that will be required anyway.\n",
    "The added term to heuristic changes by at most 1 when the player moves.\n",
    "Since every move has a cost of at least 1, the heuristic does not increase more than the actual move cost.\n",
    "But due to the portals, distance of a box to its goal could be less than the manhatann distance. So this is not addmisible and consistent. \n",
    "\n",
    "3. Third heuristic in addition to last two, considers a penalty for boxes that are in the corner of walls. like two previous heuristics, this is not admissible or consistent too.\n",
    "\n",
    "4. Fourth heuristic is count of all boxes that are not in their goal places. this heuristic is obviously admissible and consistent because each box that is not on its goal, needs at leat one step to be moved to the goal. \n"
   ]
  },
  {
   "cell_type": "markdown",
   "metadata": {},
   "source": [
    "<b>8.</b>"
   ]
  },
  {
   "cell_type": "code",
   "execution_count": 25,
   "metadata": {},
   "outputs": [
    {
     "name": "stdout",
     "output_type": "stream",
     "text": [
      "heuristic 1 ('DDDDDRRRLLLLLLLRUUUUUUUUUULRRRRRRR', 7036)\n",
      "heuristic 2 ('DDDDDRRRLLLLLLLRUUUUUUUUUULRRRRRRR', 4324)\n",
      "heuristic 3 ('DDDDDRRRLLLLLLLRUUUUUUUUUULRRRRRRR', 558)\n",
      "heuristic 4 ('DDDDDRRRLLLLLLLRUUUUUUUUUULRRRRRRR', 12034)\n",
      "\n",
      "heuristic 1 ('RURRDDDDLDRUUUULLLRDRDRDDLLDLLURLU', 47581)\n",
      "heuristic 2 ('RURRDDDDLDRUUUULLLRDRDRDDLLDLLUUDR', 39430)\n",
      "heuristic 3 ('RURRDDDDLDRLLDLLUUDRRURRUUULLLRDRDRDDL', 5595)\n",
      "heuristic 4 ('RURRDDDDLDRUUUULLLRDRDRDDLLDLLURLU', 177473)\n",
      "\n",
      "heuristic 1 ('URRRRRRRRRRRRRURDDR', 951)\n",
      "heuristic 2 ('URRRRRRRRRRRRRURDDR', 105)\n",
      "heuristic 3 ('URRRRRRRRRRRRRURDDR', 102)\n",
      "heuristic 4 ('UURDLDRRDRURDR', 5050)\n"
     ]
    }
   ],
   "source": [
    "map = load_map(6)\n",
    "print('heuristic 1', solver_astar(map, start_time=time.time(), heuristic=heuristic_1))\n",
    "print('heuristic 2', solver_astar(map, start_time=time.time(), heuristic=heuristic_2))\n",
    "print('heuristic 3',solver_astar(map, start_time=time.time(), heuristic=heuristic_3))\n",
    "print('heuristic 4',solver_astar(map, start_time=time.time(), heuristic=heuristic_4))\n",
    "print()\n",
    "\n",
    "map = load_map(7)\n",
    "print('heuristic 1', solver_astar(map, start_time=time.time(), heuristic=heuristic_1))\n",
    "print('heuristic 2', solver_astar(map, start_time=time.time(), heuristic=heuristic_2))\n",
    "print('heuristic 3',solver_astar(map, start_time=time.time(), heuristic=heuristic_3))\n",
    "print('heuristic 4',solver_astar(map, start_time=time.time(), heuristic=heuristic_4))\n",
    "print()\n",
    "\n",
    "map = load_map(8)\n",
    "print('heuristic 1', solver_astar(map, start_time=time.time(), heuristic=heuristic_1))\n",
    "print('heuristic 2', solver_astar(map, start_time=time.time(), heuristic=heuristic_2))\n",
    "print('heuristic 3',solver_astar(map, start_time=time.time(), heuristic=heuristic_3))\n",
    "print('heuristic 4',solver_astar(map, start_time=time.time(), heuristic=heuristic_4))"
   ]
  },
  {
   "cell_type": "markdown",
   "metadata": {},
   "source": [
    "We know that A* gives the optimal solution if its heuristic is admissible. Fourth heuristic gives optimal solution cause its admissible. but three others are much faster and expand much less state as shown above. So the trade off is between speed and optimality. \n",
    "as long as there is not much difference in optimality of these heuristics (on avg), I would rather use the fastest on which is the third one.  "
   ]
  },
  {
   "cell_type": "markdown",
   "metadata": {},
   "source": [
    "<b>9. </b>"
   ]
  },
  {
   "cell_type": "code",
   "execution_count": 26,
   "metadata": {},
   "outputs": [
    {
     "name": "stdout",
     "output_type": "stream",
     "text": [
      "Map 1 :\n"
     ]
    },
    {
     "data": {
      "application/vnd.microsoft.datawrangler.viewer.v0+json": {
       "columns": [
        {
         "name": "index",
         "rawType": "object",
         "type": "string"
        },
        {
         "name": "moves",
         "rawType": "object",
         "type": "string"
        },
        {
         "name": "length_moves",
         "rawType": "object",
         "type": "unknown"
        },
        {
         "name": "time_spent",
         "rawType": "object",
         "type": "unknown"
        },
        {
         "name": "numof_visited_states",
         "rawType": "object",
         "type": "unknown"
        }
       ],
       "conversionMethod": "pd.DataFrame",
       "ref": "72fd9b03-6961-4315-bc2b-fac87993e4fe",
       "rows": [
        [
         "BFS",
         "UDDULRR",
         "7",
         "0.0",
         "40"
        ],
        [
         "DFS",
         "RLLRDUU",
         "7",
         "0.0009999275207519531",
         "8"
        ],
        [
         "IDS",
         "UDDULRR",
         "7",
         "0.0030012130737304688",
         "189"
        ],
        [
         "A*",
         "UDLRRLD",
         "7",
         "0.0009989738464355469",
         "14"
        ],
        [
         "Weighted A*",
         "UDLRRLD",
         "7",
         "0.0",
         "8"
        ]
       ],
       "shape": {
        "columns": 4,
        "rows": 5
       }
      },
      "text/html": [
       "<div>\n",
       "<style scoped>\n",
       "    .dataframe tbody tr th:only-of-type {\n",
       "        vertical-align: middle;\n",
       "    }\n",
       "\n",
       "    .dataframe tbody tr th {\n",
       "        vertical-align: top;\n",
       "    }\n",
       "\n",
       "    .dataframe thead th {\n",
       "        text-align: right;\n",
       "    }\n",
       "</style>\n",
       "<table border=\"1\" class=\"dataframe\">\n",
       "  <thead>\n",
       "    <tr style=\"text-align: right;\">\n",
       "      <th>Metric</th>\n",
       "      <th>moves</th>\n",
       "      <th>length_moves</th>\n",
       "      <th>time_spent</th>\n",
       "      <th>numof_visited_states</th>\n",
       "    </tr>\n",
       "  </thead>\n",
       "  <tbody>\n",
       "    <tr>\n",
       "      <th>BFS</th>\n",
       "      <td>UDDULRR</td>\n",
       "      <td>7</td>\n",
       "      <td>0.0</td>\n",
       "      <td>40</td>\n",
       "    </tr>\n",
       "    <tr>\n",
       "      <th>DFS</th>\n",
       "      <td>RLLRDUU</td>\n",
       "      <td>7</td>\n",
       "      <td>0.001</td>\n",
       "      <td>8</td>\n",
       "    </tr>\n",
       "    <tr>\n",
       "      <th>IDS</th>\n",
       "      <td>UDDULRR</td>\n",
       "      <td>7</td>\n",
       "      <td>0.003001</td>\n",
       "      <td>189</td>\n",
       "    </tr>\n",
       "    <tr>\n",
       "      <th>A*</th>\n",
       "      <td>UDLRRLD</td>\n",
       "      <td>7</td>\n",
       "      <td>0.000999</td>\n",
       "      <td>14</td>\n",
       "    </tr>\n",
       "    <tr>\n",
       "      <th>Weighted A*</th>\n",
       "      <td>UDLRRLD</td>\n",
       "      <td>7</td>\n",
       "      <td>0.0</td>\n",
       "      <td>8</td>\n",
       "    </tr>\n",
       "  </tbody>\n",
       "</table>\n",
       "</div>"
      ],
      "text/plain": [
       "Metric         moves length_moves time_spent numof_visited_states\n",
       "BFS          UDDULRR            7        0.0                   40\n",
       "DFS          RLLRDUU            7      0.001                    8\n",
       "IDS          UDDULRR            7   0.003001                  189\n",
       "A*           UDLRRLD            7   0.000999                   14\n",
       "Weighted A*  UDLRRLD            7        0.0                    8"
      ]
     },
     "metadata": {},
     "output_type": "display_data"
    },
    {
     "name": "stdout",
     "output_type": "stream",
     "text": [
      "Map 2 :\n"
     ]
    },
    {
     "data": {
      "application/vnd.microsoft.datawrangler.viewer.v0+json": {
       "columns": [
        {
         "name": "index",
         "rawType": "object",
         "type": "string"
        },
        {
         "name": "moves",
         "rawType": "object",
         "type": "string"
        },
        {
         "name": "length_moves",
         "rawType": "object",
         "type": "unknown"
        },
        {
         "name": "time_spent",
         "rawType": "object",
         "type": "unknown"
        },
        {
         "name": "numof_visited_states",
         "rawType": "object",
         "type": "unknown"
        }
       ],
       "conversionMethod": "pd.DataFrame",
       "ref": "22332479-804e-4930-93f9-294340286c0a",
       "rows": [
        [
         "BFS",
         "LUDDUL",
         "6",
         "0.0",
         "18"
        ],
        [
         "DFS",
         "LLRDUU",
         "6",
         "0.0",
         "7"
        ],
        [
         "IDS",
         "LUDDUL",
         "6",
         "0.001001119613647461",
         "74"
        ],
        [
         "A*",
         "LUDLRD",
         "6",
         "0.0",
         "10"
        ],
        [
         "Weighted A*",
         "LUDLRD",
         "6",
         "0.0",
         "7"
        ]
       ],
       "shape": {
        "columns": 4,
        "rows": 5
       }
      },
      "text/html": [
       "<div>\n",
       "<style scoped>\n",
       "    .dataframe tbody tr th:only-of-type {\n",
       "        vertical-align: middle;\n",
       "    }\n",
       "\n",
       "    .dataframe tbody tr th {\n",
       "        vertical-align: top;\n",
       "    }\n",
       "\n",
       "    .dataframe thead th {\n",
       "        text-align: right;\n",
       "    }\n",
       "</style>\n",
       "<table border=\"1\" class=\"dataframe\">\n",
       "  <thead>\n",
       "    <tr style=\"text-align: right;\">\n",
       "      <th>Metric</th>\n",
       "      <th>moves</th>\n",
       "      <th>length_moves</th>\n",
       "      <th>time_spent</th>\n",
       "      <th>numof_visited_states</th>\n",
       "    </tr>\n",
       "  </thead>\n",
       "  <tbody>\n",
       "    <tr>\n",
       "      <th>BFS</th>\n",
       "      <td>LUDDUL</td>\n",
       "      <td>6</td>\n",
       "      <td>0.0</td>\n",
       "      <td>18</td>\n",
       "    </tr>\n",
       "    <tr>\n",
       "      <th>DFS</th>\n",
       "      <td>LLRDUU</td>\n",
       "      <td>6</td>\n",
       "      <td>0.0</td>\n",
       "      <td>7</td>\n",
       "    </tr>\n",
       "    <tr>\n",
       "      <th>IDS</th>\n",
       "      <td>LUDDUL</td>\n",
       "      <td>6</td>\n",
       "      <td>0.001001</td>\n",
       "      <td>74</td>\n",
       "    </tr>\n",
       "    <tr>\n",
       "      <th>A*</th>\n",
       "      <td>LUDLRD</td>\n",
       "      <td>6</td>\n",
       "      <td>0.0</td>\n",
       "      <td>10</td>\n",
       "    </tr>\n",
       "    <tr>\n",
       "      <th>Weighted A*</th>\n",
       "      <td>LUDLRD</td>\n",
       "      <td>6</td>\n",
       "      <td>0.0</td>\n",
       "      <td>7</td>\n",
       "    </tr>\n",
       "  </tbody>\n",
       "</table>\n",
       "</div>"
      ],
      "text/plain": [
       "Metric        moves length_moves time_spent numof_visited_states\n",
       "BFS          LUDDUL            6        0.0                   18\n",
       "DFS          LLRDUU            6        0.0                    7\n",
       "IDS          LUDDUL            6   0.001001                   74\n",
       "A*           LUDLRD            6        0.0                   10\n",
       "Weighted A*  LUDLRD            6        0.0                    7"
      ]
     },
     "metadata": {},
     "output_type": "display_data"
    },
    {
     "name": "stdout",
     "output_type": "stream",
     "text": [
      "Map 3 :\n"
     ]
    },
    {
     "data": {
      "application/vnd.microsoft.datawrangler.viewer.v0+json": {
       "columns": [
        {
         "name": "index",
         "rawType": "object",
         "type": "string"
        },
        {
         "name": "moves",
         "rawType": "object",
         "type": "string"
        },
        {
         "name": "length_moves",
         "rawType": "object",
         "type": "unknown"
        },
        {
         "name": "time_spent",
         "rawType": "object",
         "type": "unknown"
        },
        {
         "name": "numof_visited_states",
         "rawType": "object",
         "type": "unknown"
        }
       ],
       "conversionMethod": "pd.DataFrame",
       "ref": "419c6444-76f1-415f-82b1-b18701a2d9e6",
       "rows": [
        [
         "BFS",
         "ULDDUUUURDDDD",
         "13",
         "0.000990152359008789",
         "111"
        ],
        [
         "DFS",
         "ULDDUUUURDDDD",
         "13",
         "0.0009949207305908203",
         "42"
        ],
        [
         "IDS",
         "ULDDUUUURDDDD",
         "13",
         "0.0040018558502197266",
         "661"
        ],
        [
         "A*",
         "ULDDUUUURDDDD",
         "13",
         "0.0",
         "29"
        ],
        [
         "Weighted A*",
         "ULDDUUUURDDDD",
         "13",
         "0.0",
         "18"
        ]
       ],
       "shape": {
        "columns": 4,
        "rows": 5
       }
      },
      "text/html": [
       "<div>\n",
       "<style scoped>\n",
       "    .dataframe tbody tr th:only-of-type {\n",
       "        vertical-align: middle;\n",
       "    }\n",
       "\n",
       "    .dataframe tbody tr th {\n",
       "        vertical-align: top;\n",
       "    }\n",
       "\n",
       "    .dataframe thead th {\n",
       "        text-align: right;\n",
       "    }\n",
       "</style>\n",
       "<table border=\"1\" class=\"dataframe\">\n",
       "  <thead>\n",
       "    <tr style=\"text-align: right;\">\n",
       "      <th>Metric</th>\n",
       "      <th>moves</th>\n",
       "      <th>length_moves</th>\n",
       "      <th>time_spent</th>\n",
       "      <th>numof_visited_states</th>\n",
       "    </tr>\n",
       "  </thead>\n",
       "  <tbody>\n",
       "    <tr>\n",
       "      <th>BFS</th>\n",
       "      <td>ULDDUUUURDDDD</td>\n",
       "      <td>13</td>\n",
       "      <td>0.00099</td>\n",
       "      <td>111</td>\n",
       "    </tr>\n",
       "    <tr>\n",
       "      <th>DFS</th>\n",
       "      <td>ULDDUUUURDDDD</td>\n",
       "      <td>13</td>\n",
       "      <td>0.000995</td>\n",
       "      <td>42</td>\n",
       "    </tr>\n",
       "    <tr>\n",
       "      <th>IDS</th>\n",
       "      <td>ULDDUUUURDDDD</td>\n",
       "      <td>13</td>\n",
       "      <td>0.004002</td>\n",
       "      <td>661</td>\n",
       "    </tr>\n",
       "    <tr>\n",
       "      <th>A*</th>\n",
       "      <td>ULDDUUUURDDDD</td>\n",
       "      <td>13</td>\n",
       "      <td>0.0</td>\n",
       "      <td>29</td>\n",
       "    </tr>\n",
       "    <tr>\n",
       "      <th>Weighted A*</th>\n",
       "      <td>ULDDUUUURDDDD</td>\n",
       "      <td>13</td>\n",
       "      <td>0.0</td>\n",
       "      <td>18</td>\n",
       "    </tr>\n",
       "  </tbody>\n",
       "</table>\n",
       "</div>"
      ],
      "text/plain": [
       "Metric               moves length_moves time_spent numof_visited_states\n",
       "BFS          ULDDUUUURDDDD           13    0.00099                  111\n",
       "DFS          ULDDUUUURDDDD           13   0.000995                   42\n",
       "IDS          ULDDUUUURDDDD           13   0.004002                  661\n",
       "A*           ULDDUUUURDDDD           13        0.0                   29\n",
       "Weighted A*  ULDDUUUURDDDD           13        0.0                   18"
      ]
     },
     "metadata": {},
     "output_type": "display_data"
    },
    {
     "name": "stdout",
     "output_type": "stream",
     "text": [
      "Map 4 :\n"
     ]
    },
    {
     "data": {
      "application/vnd.microsoft.datawrangler.viewer.v0+json": {
       "columns": [
        {
         "name": "index",
         "rawType": "object",
         "type": "string"
        },
        {
         "name": "moves",
         "rawType": "object",
         "type": "unknown"
        },
        {
         "name": "length_moves",
         "rawType": "object",
         "type": "unknown"
        },
        {
         "name": "time_spent",
         "rawType": "object",
         "type": "unknown"
        },
        {
         "name": "numof_visited_states",
         "rawType": "object",
         "type": "unknown"
        }
       ],
       "conversionMethod": "pd.DataFrame",
       "ref": "bf4a5291-a9cb-44d1-a670-d52757549fde",
       "rows": [
        [
         "BFS",
         null,
         "0",
         "0.0",
         "0"
        ],
        [
         "DFS",
         null,
         "0",
         "0.0",
         "0"
        ],
        [
         "IDS",
         null,
         "0",
         "0.01769852638244629",
         "1999"
        ],
        [
         "A*",
         null,
         "0",
         "0.0",
         "0"
        ],
        [
         "Weighted A*",
         null,
         "0",
         "0.0009987354278564453",
         "0"
        ]
       ],
       "shape": {
        "columns": 4,
        "rows": 5
       }
      },
      "text/html": [
       "<div>\n",
       "<style scoped>\n",
       "    .dataframe tbody tr th:only-of-type {\n",
       "        vertical-align: middle;\n",
       "    }\n",
       "\n",
       "    .dataframe tbody tr th {\n",
       "        vertical-align: top;\n",
       "    }\n",
       "\n",
       "    .dataframe thead th {\n",
       "        text-align: right;\n",
       "    }\n",
       "</style>\n",
       "<table border=\"1\" class=\"dataframe\">\n",
       "  <thead>\n",
       "    <tr style=\"text-align: right;\">\n",
       "      <th>Metric</th>\n",
       "      <th>moves</th>\n",
       "      <th>length_moves</th>\n",
       "      <th>time_spent</th>\n",
       "      <th>numof_visited_states</th>\n",
       "    </tr>\n",
       "  </thead>\n",
       "  <tbody>\n",
       "    <tr>\n",
       "      <th>BFS</th>\n",
       "      <td>None</td>\n",
       "      <td>0</td>\n",
       "      <td>0.0</td>\n",
       "      <td>0</td>\n",
       "    </tr>\n",
       "    <tr>\n",
       "      <th>DFS</th>\n",
       "      <td>None</td>\n",
       "      <td>0</td>\n",
       "      <td>0.0</td>\n",
       "      <td>0</td>\n",
       "    </tr>\n",
       "    <tr>\n",
       "      <th>IDS</th>\n",
       "      <td>None</td>\n",
       "      <td>0</td>\n",
       "      <td>0.017699</td>\n",
       "      <td>1999</td>\n",
       "    </tr>\n",
       "    <tr>\n",
       "      <th>A*</th>\n",
       "      <td>None</td>\n",
       "      <td>0</td>\n",
       "      <td>0.0</td>\n",
       "      <td>0</td>\n",
       "    </tr>\n",
       "    <tr>\n",
       "      <th>Weighted A*</th>\n",
       "      <td>None</td>\n",
       "      <td>0</td>\n",
       "      <td>0.000999</td>\n",
       "      <td>0</td>\n",
       "    </tr>\n",
       "  </tbody>\n",
       "</table>\n",
       "</div>"
      ],
      "text/plain": [
       "Metric      moves length_moves time_spent numof_visited_states\n",
       "BFS          None            0        0.0                    0\n",
       "DFS          None            0        0.0                    0\n",
       "IDS          None            0   0.017699                 1999\n",
       "A*           None            0        0.0                    0\n",
       "Weighted A*  None            0   0.000999                    0"
      ]
     },
     "metadata": {},
     "output_type": "display_data"
    },
    {
     "name": "stdout",
     "output_type": "stream",
     "text": [
      "Map 5 :\n"
     ]
    },
    {
     "data": {
      "application/vnd.microsoft.datawrangler.viewer.v0+json": {
       "columns": [
        {
         "name": "index",
         "rawType": "object",
         "type": "string"
        },
        {
         "name": "moves",
         "rawType": "object",
         "type": "string"
        },
        {
         "name": "length_moves",
         "rawType": "object",
         "type": "unknown"
        },
        {
         "name": "time_spent",
         "rawType": "object",
         "type": "unknown"
        },
        {
         "name": "numof_visited_states",
         "rawType": "object",
         "type": "unknown"
        }
       ],
       "conversionMethod": "pd.DataFrame",
       "ref": "77b56c8f-d492-4b8b-ab8d-9614084cdeb9",
       "rows": [
        [
         "BFS",
         "ULDDRDLLLUUURUL",
         "15",
         "0.039186716079711914",
         "4770"
        ],
        [
         "DFS",
         "LRDLLLLUURRDRRDLLRRDLLLLURRLLDRRRRUULLLRRRDLRDLLLLURRLLDRRRURDLLLLURRULURRRDLRDLLLLURRLLDRRRRULRDLLURRDLLLLURURLDRRRDLLLLUURRDRRULRDLLLLURURDRRDLLRRDLLLLURRLLDRRRRUULDRDLRDLLLLURURDRRDLLL",
         "187",
         "0.024002790451049805",
         "3058"
        ],
        [
         "IDS",
         "ULDDRDLLLUUURUL",
         "15",
         "0.2131812572479248",
         "26044"
        ],
        [
         "A*",
         "LULDDRDLLUUURUL",
         "15",
         "0.018680334091186523",
         "964"
        ],
        [
         "Weighted A*",
         "LULDRDLLULDURURUL",
         "17",
         "0.013012886047363281",
         "570"
        ]
       ],
       "shape": {
        "columns": 4,
        "rows": 5
       }
      },
      "text/html": [
       "<div>\n",
       "<style scoped>\n",
       "    .dataframe tbody tr th:only-of-type {\n",
       "        vertical-align: middle;\n",
       "    }\n",
       "\n",
       "    .dataframe tbody tr th {\n",
       "        vertical-align: top;\n",
       "    }\n",
       "\n",
       "    .dataframe thead th {\n",
       "        text-align: right;\n",
       "    }\n",
       "</style>\n",
       "<table border=\"1\" class=\"dataframe\">\n",
       "  <thead>\n",
       "    <tr style=\"text-align: right;\">\n",
       "      <th>Metric</th>\n",
       "      <th>moves</th>\n",
       "      <th>length_moves</th>\n",
       "      <th>time_spent</th>\n",
       "      <th>numof_visited_states</th>\n",
       "    </tr>\n",
       "  </thead>\n",
       "  <tbody>\n",
       "    <tr>\n",
       "      <th>BFS</th>\n",
       "      <td>ULDDRDLLLUUURUL</td>\n",
       "      <td>15</td>\n",
       "      <td>0.039187</td>\n",
       "      <td>4770</td>\n",
       "    </tr>\n",
       "    <tr>\n",
       "      <th>DFS</th>\n",
       "      <td>LRDLLLLUURRDRRDLLRRDLLLLURRLLDRRRRUULLLRRRDLRD...</td>\n",
       "      <td>187</td>\n",
       "      <td>0.024003</td>\n",
       "      <td>3058</td>\n",
       "    </tr>\n",
       "    <tr>\n",
       "      <th>IDS</th>\n",
       "      <td>ULDDRDLLLUUURUL</td>\n",
       "      <td>15</td>\n",
       "      <td>0.213181</td>\n",
       "      <td>26044</td>\n",
       "    </tr>\n",
       "    <tr>\n",
       "      <th>A*</th>\n",
       "      <td>LULDDRDLLUUURUL</td>\n",
       "      <td>15</td>\n",
       "      <td>0.01868</td>\n",
       "      <td>964</td>\n",
       "    </tr>\n",
       "    <tr>\n",
       "      <th>Weighted A*</th>\n",
       "      <td>LULDRDLLULDURURUL</td>\n",
       "      <td>17</td>\n",
       "      <td>0.013013</td>\n",
       "      <td>570</td>\n",
       "    </tr>\n",
       "  </tbody>\n",
       "</table>\n",
       "</div>"
      ],
      "text/plain": [
       "Metric                                                   moves length_moves  \\\n",
       "BFS                                            ULDDRDLLLUUURUL           15   \n",
       "DFS          LRDLLLLUURRDRRDLLRRDLLLLURRLLDRRRRUULLLRRRDLRD...          187   \n",
       "IDS                                            ULDDRDLLLUUURUL           15   \n",
       "A*                                             LULDDRDLLUUURUL           15   \n",
       "Weighted A*                                  LULDRDLLULDURURUL           17   \n",
       "\n",
       "Metric      time_spent numof_visited_states  \n",
       "BFS           0.039187                 4770  \n",
       "DFS           0.024003                 3058  \n",
       "IDS           0.213181                26044  \n",
       "A*             0.01868                  964  \n",
       "Weighted A*   0.013013                  570  "
      ]
     },
     "metadata": {},
     "output_type": "display_data"
    },
    {
     "name": "stdout",
     "output_type": "stream",
     "text": [
      "Map 6 :\n"
     ]
    },
    {
     "data": {
      "application/vnd.microsoft.datawrangler.viewer.v0+json": {
       "columns": [
        {
         "name": "index",
         "rawType": "object",
         "type": "string"
        },
        {
         "name": "moves",
         "rawType": "object",
         "type": "string"
        },
        {
         "name": "length_moves",
         "rawType": "object",
         "type": "unknown"
        },
        {
         "name": "time_spent",
         "rawType": "object",
         "type": "unknown"
        },
        {
         "name": "numof_visited_states",
         "rawType": "object",
         "type": "unknown"
        }
       ],
       "conversionMethod": "pd.DataFrame",
       "ref": "8a118397-c59a-43c5-a382-cb9048c84443",
       "rows": [
        [
         "BFS",
         "UUUUURRRLLLLLLLDDDDDDDDDRDLRRRRRRR",
         "34",
         "0.12100052833557129",
         "15082"
        ],
        [
         "DFS",
         "RRRRDLLLLLLLLLDRRRRRRRRRDLLLLLLLLLDRRRRRRRRRDLRULLLLLLLLLDRRRRLLLLURRRRRRRRRULLLLLLLLLURRRRRRRRRULLLLLLLLLURRRRRRRRRULLLLLLLLLURRRRRRRRRULLLLLLLLLURRRRRRRRRULRDLLLLLLLLLDRRRRRRRRRDLLLLLLLLLDRRRRRRRRRDLLLLLLLLLDRRRRRRRRRDLLLLLLLLLDRRRRRRRRRDLLLDRRLLLRRRURULLLLLLLLLDRRRDRRRLLLLLLURRRRRRRRRULLLLLLLLLURRRRRRRRRULLLLLLLLLURRRRRRRRRULLLLLLLLLURRRRRRRRRULLLLLLLLLURRRRRRRRRULLRRDLLLLLLLLLDRRRRRRRRRDLLLLLLLLLDRRRRRRRRRDLLLLLLLLLDRRRRRRRRRDLLLLLLLLLDRRRRRRRRRDLDLRURULLLLLLLLLURRRRRRRRRULLLLLLLLLURRRRRRRRRULLLLLLLLLURRRRRRRRRULLLLLLLLLURRRRRRRRRULLLRRRDLLLLLLLLLDRRRRRRRRRDLLLLLLLLLDRRRRRRRRRDLLLLLLLLLDRRRRRRRRRDLLLLLLLLLDRRRRRRRRRDLLLLLLLLLDRRRRRRLLLLLLURRRRRRRRRULLLLLLLLLURRRRRRRRRULLLLLLLLLURRRRRRRRRULLLLLLLLLURRRRRRRRRULLLLLLLLLURRRRRRRRRULLLLRRRRDLLLLLLLLLDRRRRRRRRRDLLLLLLLLLDRRRRRRRRRDLLLLLLLLLDRRRRRRRRRDLLLLLLLLLDRRRRRRRRRDLDLLLLLLLRRRRRRRURULLLLLLLLLURRRRRRRRRULLLLLLLLLURRRRRRRRRULLLLLLLLLURRRRRRRRRULLLLLLLLLURRRRRRRRRULLLLLRRRRRDLLLLLLLURRRRRRLLLLLLL",
         "961",
         "0.4566214084625244",
         "36639"
        ],
        [
         "IDS",
         "UUUUURRRLLLLLLLDDDDDDDDDRDLRRRRRRR",
         "34",
         "1.039400577545166",
         "126071"
        ],
        [
         "A*",
         "DDDDDRRRLLLLLLLRUUUUUUUUUULRRRRRRR",
         "34",
         "0.019095182418823242",
         "558"
        ],
        [
         "Weighted A*",
         "UUUUURRRLLLLLLLDDDDDDDDDRDLRRRRRRR",
         "34",
         "0.0019648075103759766",
         "48"
        ]
       ],
       "shape": {
        "columns": 4,
        "rows": 5
       }
      },
      "text/html": [
       "<div>\n",
       "<style scoped>\n",
       "    .dataframe tbody tr th:only-of-type {\n",
       "        vertical-align: middle;\n",
       "    }\n",
       "\n",
       "    .dataframe tbody tr th {\n",
       "        vertical-align: top;\n",
       "    }\n",
       "\n",
       "    .dataframe thead th {\n",
       "        text-align: right;\n",
       "    }\n",
       "</style>\n",
       "<table border=\"1\" class=\"dataframe\">\n",
       "  <thead>\n",
       "    <tr style=\"text-align: right;\">\n",
       "      <th>Metric</th>\n",
       "      <th>moves</th>\n",
       "      <th>length_moves</th>\n",
       "      <th>time_spent</th>\n",
       "      <th>numof_visited_states</th>\n",
       "    </tr>\n",
       "  </thead>\n",
       "  <tbody>\n",
       "    <tr>\n",
       "      <th>BFS</th>\n",
       "      <td>UUUUURRRLLLLLLLDDDDDDDDDRDLRRRRRRR</td>\n",
       "      <td>34</td>\n",
       "      <td>0.121001</td>\n",
       "      <td>15082</td>\n",
       "    </tr>\n",
       "    <tr>\n",
       "      <th>DFS</th>\n",
       "      <td>RRRRDLLLLLLLLLDRRRRRRRRRDLLLLLLLLLDRRRRRRRRRDL...</td>\n",
       "      <td>961</td>\n",
       "      <td>0.456621</td>\n",
       "      <td>36639</td>\n",
       "    </tr>\n",
       "    <tr>\n",
       "      <th>IDS</th>\n",
       "      <td>UUUUURRRLLLLLLLDDDDDDDDDRDLRRRRRRR</td>\n",
       "      <td>34</td>\n",
       "      <td>1.039401</td>\n",
       "      <td>126071</td>\n",
       "    </tr>\n",
       "    <tr>\n",
       "      <th>A*</th>\n",
       "      <td>DDDDDRRRLLLLLLLRUUUUUUUUUULRRRRRRR</td>\n",
       "      <td>34</td>\n",
       "      <td>0.019095</td>\n",
       "      <td>558</td>\n",
       "    </tr>\n",
       "    <tr>\n",
       "      <th>Weighted A*</th>\n",
       "      <td>UUUUURRRLLLLLLLDDDDDDDDDRDLRRRRRRR</td>\n",
       "      <td>34</td>\n",
       "      <td>0.001965</td>\n",
       "      <td>48</td>\n",
       "    </tr>\n",
       "  </tbody>\n",
       "</table>\n",
       "</div>"
      ],
      "text/plain": [
       "Metric                                                   moves length_moves  \\\n",
       "BFS                         UUUUURRRLLLLLLLDDDDDDDDDRDLRRRRRRR           34   \n",
       "DFS          RRRRDLLLLLLLLLDRRRRRRRRRDLLLLLLLLLDRRRRRRRRRDL...          961   \n",
       "IDS                         UUUUURRRLLLLLLLDDDDDDDDDRDLRRRRRRR           34   \n",
       "A*                          DDDDDRRRLLLLLLLRUUUUUUUUUULRRRRRRR           34   \n",
       "Weighted A*                 UUUUURRRLLLLLLLDDDDDDDDDRDLRRRRRRR           34   \n",
       "\n",
       "Metric      time_spent numof_visited_states  \n",
       "BFS           0.121001                15082  \n",
       "DFS           0.456621                36639  \n",
       "IDS           1.039401               126071  \n",
       "A*            0.019095                  558  \n",
       "Weighted A*   0.001965                   48  "
      ]
     },
     "metadata": {},
     "output_type": "display_data"
    },
    {
     "name": "stdout",
     "output_type": "stream",
     "text": [
      "Map 7 :\n"
     ]
    },
    {
     "data": {
      "application/vnd.microsoft.datawrangler.viewer.v0+json": {
       "columns": [
        {
         "name": "index",
         "rawType": "object",
         "type": "string"
        },
        {
         "name": "moves",
         "rawType": "object",
         "type": "unknown"
        },
        {
         "name": "length_moves",
         "rawType": "object",
         "type": "unknown"
        },
        {
         "name": "time_spent",
         "rawType": "object",
         "type": "unknown"
        },
        {
         "name": "numof_visited_states",
         "rawType": "object",
         "type": "unknown"
        }
       ],
       "conversionMethod": "pd.DataFrame",
       "ref": "23b6cd20-542e-4684-a724-4652d486d91e",
       "rows": [
        [
         "BFS",
         "RURRDDDDLDRUUUULLLRDRDRDDLLDLLUUDR",
         "34",
         "5.877878665924072",
         "511463"
        ],
        [
         "DFS",
         null,
         "0",
         "62.041109561920166",
         "-1"
        ],
        [
         "IDS",
         "RURRDDDDLDRUUUULLLRDRDRDDLLDLLUUDR",
         "34",
         "52.99275016784668",
         "3287503"
        ],
        [
         "A*",
         "RURRDDDDLDRLLDLLUUDRRURRUUULLLRDRDRDDL",
         "38",
         "0.33009886741638184",
         "5595"
        ],
        [
         "Weighted A*",
         "RURRDDDDLDRUUUUULLDDRDULUURRDLLLRDRDRDDLLDLLUUDR",
         "48",
         "0.0437161922454834",
         "870"
        ]
       ],
       "shape": {
        "columns": 4,
        "rows": 5
       }
      },
      "text/html": [
       "<div>\n",
       "<style scoped>\n",
       "    .dataframe tbody tr th:only-of-type {\n",
       "        vertical-align: middle;\n",
       "    }\n",
       "\n",
       "    .dataframe tbody tr th {\n",
       "        vertical-align: top;\n",
       "    }\n",
       "\n",
       "    .dataframe thead th {\n",
       "        text-align: right;\n",
       "    }\n",
       "</style>\n",
       "<table border=\"1\" class=\"dataframe\">\n",
       "  <thead>\n",
       "    <tr style=\"text-align: right;\">\n",
       "      <th>Metric</th>\n",
       "      <th>moves</th>\n",
       "      <th>length_moves</th>\n",
       "      <th>time_spent</th>\n",
       "      <th>numof_visited_states</th>\n",
       "    </tr>\n",
       "  </thead>\n",
       "  <tbody>\n",
       "    <tr>\n",
       "      <th>BFS</th>\n",
       "      <td>RURRDDDDLDRUUUULLLRDRDRDDLLDLLUUDR</td>\n",
       "      <td>34</td>\n",
       "      <td>5.877879</td>\n",
       "      <td>511463</td>\n",
       "    </tr>\n",
       "    <tr>\n",
       "      <th>DFS</th>\n",
       "      <td>None</td>\n",
       "      <td>0</td>\n",
       "      <td>62.04111</td>\n",
       "      <td>-1</td>\n",
       "    </tr>\n",
       "    <tr>\n",
       "      <th>IDS</th>\n",
       "      <td>RURRDDDDLDRUUUULLLRDRDRDDLLDLLUUDR</td>\n",
       "      <td>34</td>\n",
       "      <td>52.99275</td>\n",
       "      <td>3287503</td>\n",
       "    </tr>\n",
       "    <tr>\n",
       "      <th>A*</th>\n",
       "      <td>RURRDDDDLDRLLDLLUUDRRURRUUULLLRDRDRDDL</td>\n",
       "      <td>38</td>\n",
       "      <td>0.330099</td>\n",
       "      <td>5595</td>\n",
       "    </tr>\n",
       "    <tr>\n",
       "      <th>Weighted A*</th>\n",
       "      <td>RURRDDDDLDRUUUUULLDDRDULUURRDLLLRDRDRDDLLDLLUUDR</td>\n",
       "      <td>48</td>\n",
       "      <td>0.043716</td>\n",
       "      <td>870</td>\n",
       "    </tr>\n",
       "  </tbody>\n",
       "</table>\n",
       "</div>"
      ],
      "text/plain": [
       "Metric                                                  moves length_moves  \\\n",
       "BFS                        RURRDDDDLDRUUUULLLRDRDRDDLLDLLUUDR           34   \n",
       "DFS                                                      None            0   \n",
       "IDS                        RURRDDDDLDRUUUULLLRDRDRDDLLDLLUUDR           34   \n",
       "A*                     RURRDDDDLDRLLDLLUUDRRURRUUULLLRDRDRDDL           38   \n",
       "Weighted A*  RURRDDDDLDRUUUUULLDDRDULUURRDLLLRDRDRDDLLDLLUUDR           48   \n",
       "\n",
       "Metric      time_spent numof_visited_states  \n",
       "BFS           5.877879               511463  \n",
       "DFS           62.04111                   -1  \n",
       "IDS           52.99275              3287503  \n",
       "A*            0.330099                 5595  \n",
       "Weighted A*   0.043716                  870  "
      ]
     },
     "metadata": {},
     "output_type": "display_data"
    },
    {
     "name": "stdout",
     "output_type": "stream",
     "text": [
      "Map 8 :\n"
     ]
    },
    {
     "data": {
      "application/vnd.microsoft.datawrangler.viewer.v0+json": {
       "columns": [
        {
         "name": "index",
         "rawType": "object",
         "type": "string"
        },
        {
         "name": "moves",
         "rawType": "object",
         "type": "string"
        },
        {
         "name": "length_moves",
         "rawType": "object",
         "type": "unknown"
        },
        {
         "name": "time_spent",
         "rawType": "object",
         "type": "unknown"
        },
        {
         "name": "numof_visited_states",
         "rawType": "object",
         "type": "unknown"
        }
       ],
       "conversionMethod": "pd.DataFrame",
       "ref": "acf96613-e6da-4110-82b8-37c0287c1fd1",
       "rows": [
        [
         "BFS",
         "UURDLDRRDRURDR",
         "14",
         "0.07312536239624023",
         "5083"
        ],
        [
         "DFS",
         "RRRRLLLLDRRRRRRURRRRRRRRRRDLLLLLLLLLLLLLLLLDRRRRRRRRRRRRRRLLLLLLLLLLLLLLDRRRRDRDLLLLLLLLURRRRURRRRDLDRDLRDLLLLLLLLDRRRRRRRDRULLLLLLLLURRRRRRURRDLLLLLLLLDRRRRRRRDRULLLLLLLLURRRRURRRRDLLLLLLLLLLLLLLLLDRRRRRRRRRRRRRRLLLLLLLLLLLLLLDRRRRRDLLLLLLLLDRRRRRRRDRULLLLLLLLURRRRURRRRDLDRULLLLLLLLLLLLLLLLDRRRRRRRRRRRRRRDLLLDRRRRRRURRRRRRDRRRDRUULRDLLLLLLLLURRRRRRRRDLLLLLLLLLLLLLLLLDRRRRRRRRRRRRRRDRRDLLRRDLLLLLLLLURRRRRRLLLLLLDRRRRRRRRUULLLLLDRRRRRRURRRRRRRRRRDDLLLLLLLLLLLLLLLLDRRRRDRDLRDLLU",
         "481",
         "0.1177217960357666",
         "8058"
        ],
        [
         "IDS",
         "UURDLDRRDRURDR",
         "14",
         "0.14113712310791016",
         "27473"
        ],
        [
         "A*",
         "URRRRRRRRRRRRRURDDR",
         "19",
         "0.002275228500366211",
         "102"
        ],
        [
         "Weighted A*",
         "URRRRRRRRRRRRRURDDR",
         "19",
         "0.0",
         "20"
        ]
       ],
       "shape": {
        "columns": 4,
        "rows": 5
       }
      },
      "text/html": [
       "<div>\n",
       "<style scoped>\n",
       "    .dataframe tbody tr th:only-of-type {\n",
       "        vertical-align: middle;\n",
       "    }\n",
       "\n",
       "    .dataframe tbody tr th {\n",
       "        vertical-align: top;\n",
       "    }\n",
       "\n",
       "    .dataframe thead th {\n",
       "        text-align: right;\n",
       "    }\n",
       "</style>\n",
       "<table border=\"1\" class=\"dataframe\">\n",
       "  <thead>\n",
       "    <tr style=\"text-align: right;\">\n",
       "      <th>Metric</th>\n",
       "      <th>moves</th>\n",
       "      <th>length_moves</th>\n",
       "      <th>time_spent</th>\n",
       "      <th>numof_visited_states</th>\n",
       "    </tr>\n",
       "  </thead>\n",
       "  <tbody>\n",
       "    <tr>\n",
       "      <th>BFS</th>\n",
       "      <td>UURDLDRRDRURDR</td>\n",
       "      <td>14</td>\n",
       "      <td>0.073125</td>\n",
       "      <td>5083</td>\n",
       "    </tr>\n",
       "    <tr>\n",
       "      <th>DFS</th>\n",
       "      <td>RRRRLLLLDRRRRRRURRRRRRRRRRDLLLLLLLLLLLLLLLLDRR...</td>\n",
       "      <td>481</td>\n",
       "      <td>0.117722</td>\n",
       "      <td>8058</td>\n",
       "    </tr>\n",
       "    <tr>\n",
       "      <th>IDS</th>\n",
       "      <td>UURDLDRRDRURDR</td>\n",
       "      <td>14</td>\n",
       "      <td>0.141137</td>\n",
       "      <td>27473</td>\n",
       "    </tr>\n",
       "    <tr>\n",
       "      <th>A*</th>\n",
       "      <td>URRRRRRRRRRRRRURDDR</td>\n",
       "      <td>19</td>\n",
       "      <td>0.002275</td>\n",
       "      <td>102</td>\n",
       "    </tr>\n",
       "    <tr>\n",
       "      <th>Weighted A*</th>\n",
       "      <td>URRRRRRRRRRRRRURDDR</td>\n",
       "      <td>19</td>\n",
       "      <td>0.0</td>\n",
       "      <td>20</td>\n",
       "    </tr>\n",
       "  </tbody>\n",
       "</table>\n",
       "</div>"
      ],
      "text/plain": [
       "Metric                                                   moves length_moves  \\\n",
       "BFS                                             UURDLDRRDRURDR           14   \n",
       "DFS          RRRRLLLLDRRRRRRURRRRRRRRRRDLLLLLLLLLLLLLLLLDRR...          481   \n",
       "IDS                                             UURDLDRRDRURDR           14   \n",
       "A*                                         URRRRRRRRRRRRRURDDR           19   \n",
       "Weighted A*                                URRRRRRRRRRRRRURDDR           19   \n",
       "\n",
       "Metric      time_spent numof_visited_states  \n",
       "BFS           0.073125                 5083  \n",
       "DFS           0.117722                 8058  \n",
       "IDS           0.141137                27473  \n",
       "A*            0.002275                  102  \n",
       "Weighted A*        0.0                   20  "
      ]
     },
     "metadata": {},
     "output_type": "display_data"
    },
    {
     "name": "stdout",
     "output_type": "stream",
     "text": [
      "Map 9 :\n"
     ]
    },
    {
     "data": {
      "application/vnd.microsoft.datawrangler.viewer.v0+json": {
       "columns": [
        {
         "name": "index",
         "rawType": "object",
         "type": "string"
        },
        {
         "name": "moves",
         "rawType": "object",
         "type": "unknown"
        },
        {
         "name": "length_moves",
         "rawType": "object",
         "type": "unknown"
        },
        {
         "name": "time_spent",
         "rawType": "object",
         "type": "unknown"
        },
        {
         "name": "numof_visited_states",
         "rawType": "object",
         "type": "unknown"
        }
       ],
       "conversionMethod": "pd.DataFrame",
       "ref": "043fad5d-a91b-41bf-a27e-208e1c0b2cdc",
       "rows": [
        [
         "BFS",
         null,
         "0",
         "64.2225821018219",
         "-1"
        ],
        [
         "DFS",
         null,
         "0",
         "62.068867683410645",
         "-1"
        ],
        [
         "IDS",
         null,
         "0",
         "60.23496627807617",
         "-1"
        ],
        [
         "A*",
         null,
         "0",
         "60.85366368293762",
         "-1"
        ],
        [
         "Weighted A*",
         "RURRRLLLDRDRULURURDRURDRDDLLUDRRULLRUULDDRDLDLULUUUUUUULULDLDRRURDDDDDLDR",
         "73",
         "5.8554699420928955",
         "154035"
        ]
       ],
       "shape": {
        "columns": 4,
        "rows": 5
       }
      },
      "text/html": [
       "<div>\n",
       "<style scoped>\n",
       "    .dataframe tbody tr th:only-of-type {\n",
       "        vertical-align: middle;\n",
       "    }\n",
       "\n",
       "    .dataframe tbody tr th {\n",
       "        vertical-align: top;\n",
       "    }\n",
       "\n",
       "    .dataframe thead th {\n",
       "        text-align: right;\n",
       "    }\n",
       "</style>\n",
       "<table border=\"1\" class=\"dataframe\">\n",
       "  <thead>\n",
       "    <tr style=\"text-align: right;\">\n",
       "      <th>Metric</th>\n",
       "      <th>moves</th>\n",
       "      <th>length_moves</th>\n",
       "      <th>time_spent</th>\n",
       "      <th>numof_visited_states</th>\n",
       "    </tr>\n",
       "  </thead>\n",
       "  <tbody>\n",
       "    <tr>\n",
       "      <th>BFS</th>\n",
       "      <td>None</td>\n",
       "      <td>0</td>\n",
       "      <td>64.222582</td>\n",
       "      <td>-1</td>\n",
       "    </tr>\n",
       "    <tr>\n",
       "      <th>DFS</th>\n",
       "      <td>None</td>\n",
       "      <td>0</td>\n",
       "      <td>62.068868</td>\n",
       "      <td>-1</td>\n",
       "    </tr>\n",
       "    <tr>\n",
       "      <th>IDS</th>\n",
       "      <td>None</td>\n",
       "      <td>0</td>\n",
       "      <td>60.234966</td>\n",
       "      <td>-1</td>\n",
       "    </tr>\n",
       "    <tr>\n",
       "      <th>A*</th>\n",
       "      <td>None</td>\n",
       "      <td>0</td>\n",
       "      <td>60.853664</td>\n",
       "      <td>-1</td>\n",
       "    </tr>\n",
       "    <tr>\n",
       "      <th>Weighted A*</th>\n",
       "      <td>RURRRLLLDRDRULURURDRURDRDDLLUDRRULLRUULDDRDLDL...</td>\n",
       "      <td>73</td>\n",
       "      <td>5.85547</td>\n",
       "      <td>154035</td>\n",
       "    </tr>\n",
       "  </tbody>\n",
       "</table>\n",
       "</div>"
      ],
      "text/plain": [
       "Metric                                                   moves length_moves  \\\n",
       "BFS                                                       None            0   \n",
       "DFS                                                       None            0   \n",
       "IDS                                                       None            0   \n",
       "A*                                                        None            0   \n",
       "Weighted A*  RURRRLLLDRDRULURURDRURDRDDLLUDRRULLRUULDDRDLDL...           73   \n",
       "\n",
       "Metric      time_spent numof_visited_states  \n",
       "BFS          64.222582                   -1  \n",
       "DFS          62.068868                   -1  \n",
       "IDS          60.234966                   -1  \n",
       "A*           60.853664                   -1  \n",
       "Weighted A*    5.85547               154035  "
      ]
     },
     "metadata": {},
     "output_type": "display_data"
    },
    {
     "name": "stdout",
     "output_type": "stream",
     "text": [
      "Map 10 :\n"
     ]
    },
    {
     "data": {
      "application/vnd.microsoft.datawrangler.viewer.v0+json": {
       "columns": [
        {
         "name": "index",
         "rawType": "object",
         "type": "string"
        },
        {
         "name": "moves",
         "rawType": "object",
         "type": "string"
        },
        {
         "name": "length_moves",
         "rawType": "object",
         "type": "unknown"
        },
        {
         "name": "time_spent",
         "rawType": "object",
         "type": "unknown"
        },
        {
         "name": "numof_visited_states",
         "rawType": "object",
         "type": "unknown"
        }
       ],
       "conversionMethod": "pd.DataFrame",
       "ref": "1a3099fa-673e-4d43-b049-50268f467f52",
       "rows": [
        [
         "BFS",
         "RRRRRDRULURULLLULDRUUULDRDLDRRDRULURURDDRDLLLL",
         "46",
         "1.9039807319641113",
         "228003"
        ],
        [
         "DFS",
         "RRRRRLLLLLLLDRRRRRRRRRULRDLLLLLLLLLURURRRRRRRDLLLLLURRRURRULLLLLDRDLLUUURDRDLDRRLLDRRRRRULLLLLLLLDRRRRRRRLLLLLLLDRRRRRRRRRULRDLLURRDLLLLLLLLLURRRRRRULLLLLLURRRRRRRRRDLRDLLLLLLLLLURRRRRRURRDRULRDLLLLLURRLLDRRRRRULLRRDLLLLLURRURRDRDLLLLLLLLLURRRRURLLLLLDRRRRRRRRRULRDLLLLLLLLLURRRRRURDRRDLLLLLURRLLDRRRRRULLLLLLLLDRRRRRDRRRRULLLRRRDLLLLLLLLLURRRRURRRRDLLURDLLLLRRRRDLLLLLLLLLURRRRRRRLLLLLLLDRRRRRRRRRULRDLLLLLLLLLURRRRRURRRDLLLLLURRURLLDRRULDRRRRDLLRRDLLLLLLLLLURRRRRRRLLLLLLLDRRRRRRRRRUULLLLDRRRRRUULRDLLLLLLLLURRRRRRRRRDLLLLURDLLURURDRRDLLLLLLLLURRRRRRRRRDLRDLRDLLLLLLLLLURRRRRRRLLLLLLLDRRRRRRRRURDLLLLLLLLLURRRRRRRURDLLLLLURRLLDRRRRRULLLLLLLLDRRRRRRRRRULLRRDLLLLLLLLLURRRRRRRRDLLLLLUURDLLURRURRDLRDLLLLLLLLDRRRRRRRRRULLDLLURRLLDRRRRRULLLLLLLLDRRRRRRRRRULRDLLLLLLLLLURRRRRRRRDLLLLLUURDLLURRLLDRRULURRRRRDLRULLDRRDLLLLLLLLDRRRRRRRRRUULDLLULLDRRRRRULLLLLLLLDRRRRRRRRRULRDLLLLLLLLLURRRRRRRRDLLLLLURURDLURDLURRLLDRRULDRRLLDRRRRRUUULDRDLLLLLLLLDRRRRRRRDRRULRDLLLLLLLLLURRRRRRURRDLLURDLLLRRULLRRRDLLLDRDL",
         "998",
         "1.7235932350158691",
         "208951"
        ],
        [
         "IDS",
         "RRRRRDRULURULLLULDRUUULDRDLDRRDRULURURDDRDLLLL",
         "46",
         "25.107100248336792",
         "2604381"
        ],
        [
         "A*",
         "RRRRRDRULURULLLULDRUUULDRDLDRRDRULURURDDRDLLLL",
         "46",
         "1.342804193496704",
         "38834"
        ],
        [
         "Weighted A*",
         "RRRRDRURULLLUURDLDRDDLLURRDRULURURDDRDLLLDLURULURURDLDRDRULURULLLRRDLLLULD",
         "74",
         "0.23430776596069336",
         "6332"
        ]
       ],
       "shape": {
        "columns": 4,
        "rows": 5
       }
      },
      "text/html": [
       "<div>\n",
       "<style scoped>\n",
       "    .dataframe tbody tr th:only-of-type {\n",
       "        vertical-align: middle;\n",
       "    }\n",
       "\n",
       "    .dataframe tbody tr th {\n",
       "        vertical-align: top;\n",
       "    }\n",
       "\n",
       "    .dataframe thead th {\n",
       "        text-align: right;\n",
       "    }\n",
       "</style>\n",
       "<table border=\"1\" class=\"dataframe\">\n",
       "  <thead>\n",
       "    <tr style=\"text-align: right;\">\n",
       "      <th>Metric</th>\n",
       "      <th>moves</th>\n",
       "      <th>length_moves</th>\n",
       "      <th>time_spent</th>\n",
       "      <th>numof_visited_states</th>\n",
       "    </tr>\n",
       "  </thead>\n",
       "  <tbody>\n",
       "    <tr>\n",
       "      <th>BFS</th>\n",
       "      <td>RRRRRDRULURULLLULDRUUULDRDLDRRDRULURURDDRDLLLL</td>\n",
       "      <td>46</td>\n",
       "      <td>1.903981</td>\n",
       "      <td>228003</td>\n",
       "    </tr>\n",
       "    <tr>\n",
       "      <th>DFS</th>\n",
       "      <td>RRRRRLLLLLLLDRRRRRRRRRULRDLLLLLLLLLURURRRRRRRD...</td>\n",
       "      <td>998</td>\n",
       "      <td>1.723593</td>\n",
       "      <td>208951</td>\n",
       "    </tr>\n",
       "    <tr>\n",
       "      <th>IDS</th>\n",
       "      <td>RRRRRDRULURULLLULDRUUULDRDLDRRDRULURURDDRDLLLL</td>\n",
       "      <td>46</td>\n",
       "      <td>25.1071</td>\n",
       "      <td>2604381</td>\n",
       "    </tr>\n",
       "    <tr>\n",
       "      <th>A*</th>\n",
       "      <td>RRRRRDRULURULLLULDRUUULDRDLDRRDRULURURDDRDLLLL</td>\n",
       "      <td>46</td>\n",
       "      <td>1.342804</td>\n",
       "      <td>38834</td>\n",
       "    </tr>\n",
       "    <tr>\n",
       "      <th>Weighted A*</th>\n",
       "      <td>RRRRDRURULLLUURDLDRDDLLURRDRULURURDDRDLLLDLURU...</td>\n",
       "      <td>74</td>\n",
       "      <td>0.234308</td>\n",
       "      <td>6332</td>\n",
       "    </tr>\n",
       "  </tbody>\n",
       "</table>\n",
       "</div>"
      ],
      "text/plain": [
       "Metric                                                   moves length_moves  \\\n",
       "BFS             RRRRRDRULURULLLULDRUUULDRDLDRRDRULURURDDRDLLLL           46   \n",
       "DFS          RRRRRLLLLLLLDRRRRRRRRRULRDLLLLLLLLLURURRRRRRRD...          998   \n",
       "IDS             RRRRRDRULURULLLULDRUUULDRDLDRRDRULURURDDRDLLLL           46   \n",
       "A*              RRRRRDRULURULLLULDRUUULDRDLDRRDRULURURDDRDLLLL           46   \n",
       "Weighted A*  RRRRDRURULLLUURDLDRDDLLURRDRULURURDDRDLLLDLURU...           74   \n",
       "\n",
       "Metric      time_spent numof_visited_states  \n",
       "BFS           1.903981               228003  \n",
       "DFS           1.723593               208951  \n",
       "IDS            25.1071              2604381  \n",
       "A*            1.342804                38834  \n",
       "Weighted A*   0.234308                 6332  "
      ]
     },
     "metadata": {},
     "output_type": "display_data"
    }
   ],
   "source": [
    "for index in range(1, 11):\n",
    "    print('Map', index, ':')\n",
    "    display(data['map'+str(index)])"
   ]
  },
  {
   "cell_type": "markdown",
   "metadata": {},
   "source": [
    "<b>10.</b> Comparing different weights for weighted A*"
   ]
  },
  {
   "cell_type": "code",
   "execution_count": 27,
   "metadata": {},
   "outputs": [
    {
     "name": "stdout",
     "output_type": "stream",
     "text": [
      "alpha = 2 -> ('UUUUURRRLLLLLLLDDDDDDDDDRDLRRRRRRR', 50)\n",
      "alpha = 5 -> ('UUUUURRRLLLLLLLDDDDDDDDDRDLRRRRRRR', 48)\n",
      "alpha = 7 -> ('UUUUURRRLLLLLLLDDDDDDDDDRDLRRRRRRR', 52)\n",
      "alpha = 10 -> ('UUUUURRRLLLLLLLDDDDDDDDDRDLRRRRRRR', 56)\n",
      "\n",
      "alpha = 2 -> ('RURRDLLLRRRDDDLDRUUUULLDRDRDDLLDLLUUDR', 1852)\n",
      "alpha = 5 -> ('RURRDDDDLDRUUUUULLDDRDULUURRDLLLRDRDRDDLLDLLUUDR', 870)\n",
      "alpha = 7 -> ('RURRDDDDLDRUUUUULLDDRDULUURRDLLLRDRDRDDLLDLLUUDR', 679)\n",
      "alpha = 10 -> ('RURRDDDDLDRUUUUULLDDRDULUURRDLLLRDRDRDDLLDLLUUDR', 710)\n",
      "\n",
      "alpha = 2 -> ('URRRRRRRRRRRRRURDDR', 20)\n",
      "alpha = 5 -> ('URRRRRRRRRRRRRURDDR', 20)\n",
      "alpha = 7 -> ('URRRRRRRRRRRRRURDDR', 20)\n",
      "alpha = 10 -> ('URRRRRRRRRRRRRURDDR', 20)\n",
      "\n",
      "alpha = 2 -> ('RURRRLDDLULURRURDRDRDLDLULUUUUUULLLURRURDDDDDDLDRURRURDRDLL', 422541)\n",
      "alpha = 5 -> ('RURRRLLLDRDRULURURDRURDRDDLLUDRRULLRUULDDRDLDLULUUUUUUULULDLDRRURDDDDDLDR', 154035)\n",
      "alpha = 7 -> ('RURRRLLLDRDRULURURDRURDRDDLLUDRRULLRUULDDRDLDLULUUUUUUULULDLDRRURDDDDDLDR', 475791)\n",
      "alpha = 10 -> (None, -1)\n",
      "\n"
     ]
    }
   ],
   "source": [
    "map = load_map(6)\n",
    "print('alpha = 2 ->', solver_weighted_astar(map, start_time=time.time(), heuristic=heuristic_3, w = 2))\n",
    "print('alpha = 5 ->', solver_weighted_astar(map, start_time=time.time(), heuristic=heuristic_3, w = 5))\n",
    "print('alpha = 7 ->', solver_weighted_astar(map, start_time=time.time(), heuristic=heuristic_3, w = 7))\n",
    "print('alpha = 10 ->', solver_weighted_astar(map, start_time=time.time(), heuristic=heuristic_3, w = 10))\n",
    "print()\n",
    "\n",
    "map = load_map(7)\n",
    "print('alpha = 2 ->', solver_weighted_astar(map, start_time=time.time(), heuristic=heuristic_3, w = 2))\n",
    "print('alpha = 5 ->', solver_weighted_astar(map, start_time=time.time(), heuristic=heuristic_3, w = 5))\n",
    "print('alpha = 7 ->', solver_weighted_astar(map, start_time=time.time(), heuristic=heuristic_3, w = 7))\n",
    "print('alpha = 10 ->', solver_weighted_astar(map, start_time=time.time(), heuristic=heuristic_3, w = 10))\n",
    "print()\n",
    "\n",
    "map = load_map(8)\n",
    "print('alpha = 2 ->', solver_weighted_astar(map, start_time=time.time(), heuristic=heuristic_3, w = 2))\n",
    "print('alpha = 5 ->', solver_weighted_astar(map, start_time=time.time(), heuristic=heuristic_3, w = 5))\n",
    "print('alpha = 7 ->', solver_weighted_astar(map, start_time=time.time(), heuristic=heuristic_3, w = 7))\n",
    "print('alpha = 10 ->', solver_weighted_astar(map, start_time=time.time(), heuristic=heuristic_3, w = 10))\n",
    "print()\n",
    "\n",
    "map = load_map(9)\n",
    "print('alpha = 2 ->', solver_weighted_astar(map, start_time=time.time(), heuristic=heuristic_3, w = 2))\n",
    "print('alpha = 5 ->', solver_weighted_astar(map, start_time=time.time(), heuristic=heuristic_3, w = 5))\n",
    "print('alpha = 7 ->', solver_weighted_astar(map, start_time=time.time(), heuristic=heuristic_3, w = 7))\n",
    "print('alpha = 10 ->', solver_weighted_astar(map, start_time=time.time(), heuristic=heuristic_3, w = 10))\n",
    "print()\n",
    "\n"
   ]
  },
  {
   "cell_type": "markdown",
   "metadata": {},
   "source": [
    "As seen above, for weight w = 5, less states are expanded that means it is faster. and also in for map nine, only responding weight is 5 and others exceede the time limit. "
   ]
  }
 ],
 "metadata": {
  "kernelspec": {
   "display_name": "Python 3",
   "language": "python",
   "name": "python3"
  },
  "language_info": {
   "codemirror_mode": {
    "name": "ipython",
    "version": 3
   },
   "file_extension": ".py",
   "mimetype": "text/x-python",
   "name": "python",
   "nbconvert_exporter": "python",
   "pygments_lexer": "ipython3",
   "version": "3.12.7"
  }
 },
 "nbformat": 4,
 "nbformat_minor": 2
}
